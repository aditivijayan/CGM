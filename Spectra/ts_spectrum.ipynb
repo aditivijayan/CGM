{
 "cells": [
  {
   "cell_type": "code",
   "execution_count": 1,
   "metadata": {},
   "outputs": [
    {
     "name": "stderr",
     "output_type": "stream",
     "text": [
      "/home/aditiv/anaconda3/lib/python3.6/site-packages/h5py/__init__.py:36: FutureWarning: Conversion of the second argument of issubdtype from `float` to `np.floating` is deprecated. In future, it will be treated as `np.float64 == np.dtype(float).type`.\n",
      "  from ._conv import register_converters as _register_converters\n",
      "/home/aditiv/anaconda3/lib/python3.6/site-packages/yt/analysis_modules/cosmological_observation/api.py:22: VisibleDeprecationWarning: Development of the LightRay module has been moved to the Trident package. This version is deprecated and will be removed from yt in a future release. See https://github.com/trident-project/trident for further information.\n",
      "  from .light_ray.api import \\\n",
      "/home/aditiv/anaconda3/lib/python3.6/site-packages/matplotlib/cbook/deprecation.py:107: MatplotlibDeprecationWarning: The mpl_toolkits.axes_grid module was deprecated in version 2.1. Use mpl_toolkits.axes_grid1 and mpl_toolkits.axisartist provies the same functionality instead.\n",
      "  warnings.warn(message, mplDeprecation, stacklevel=1)\n"
     ]
    }
   ],
   "source": [
    "%matplotlib inline\n",
    "import matplotlib\n",
    "matplotlib.rc(\"font\", size=18, family=\"serif\")\n",
    "import yt\n",
    "import numpy as np\n",
    "import matplotlib.pyplot as plt\n",
    "from yt.utilities.physical_ratios import cm_per_kpc, K_per_keV\n",
    "from yt.units import mp\n",
    "import pyxsim\n",
    "import soxs\n",
    "import aplpy\n",
    "import os\n",
    "import matplotlib.colors as mcolors\n",
    "import matplotlib.cm"
   ]
  },
  {
   "cell_type": "code",
   "execution_count": 2,
   "metadata": {},
   "outputs": [],
   "source": [
    "plt.rcParams['font.size']=22\n",
    "plt.rcParams['axes.linewidth']=2\n",
    "plt.rcParams['xtick.major.size']=10\n",
    "plt.rcParams['xtick.minor.size']=5\n",
    "plt.rcParams['xtick.major.width']=2\n",
    "plt.rcParams['xtick.minor.width']=1\n",
    "plt.rcParams['xtick.direction']='in'\n",
    "plt.rcParams['ytick.major.size']=10\n",
    "plt.rcParams['ytick.minor.size']=5\n",
    "plt.rcParams['ytick.major.width']=2\n",
    "plt.rcParams['ytick.minor.width']=1\n",
    "plt.rcParams['ytick.direction']='in'"
   ]
  },
  {
   "cell_type": "code",
   "execution_count": 3,
   "metadata": {},
   "outputs": [],
   "source": [
    "Msun     = 2.e33\n",
    "ks       = 1.e3\n",
    "area     = (2000.0, \"cm**2\") # collecting area\n",
    "dist     = (1.0, \"Mpc\")\n",
    "RA,dec   = (349.60, -42.0) \n",
    "nH       = 1.93e-2  #in units of 10^22 /cm/cm\n",
    "Bins     = np.arange(0.0, 5., 1.e-3)\n",
    "bins     = np.arange(0.0, 5., 0.13)\n",
    "t        = 100 * ks    \n",
    "exp_time = (t, \"s\") # exposure time"
   ]
  },
  {
   "cell_type": "code",
   "execution_count": 4,
   "metadata": {},
   "outputs": [],
   "source": [
    "\n",
    "base     = \"/home/aditiv/CGM/Pyxsim/Data/\"\n",
    "\n",
    "folder   = [ \"HR_0821_n6e-5_T1e6_hse_SFR10_Rsf2kpc/\", \"HR_0821_1e-6_SFR3/\"]\n",
    "filename = [\"DD0070/sb_0070\", \\\n",
    "            \"DD0090/sb_0090\", \\\n",
    "            \"DD0110/sb_0110\", \\\n",
    "            \"DD0130/sb_0130\", \\\n",
    "            \"DD0150/sb_0150\", \\\n",
    "            \"DD0220/sb_0220\", \\\n",
    "            \"DD0300/sb_0300\", \\\n",
    "            \"DD0400/sb_0400\", \\\n",
    "            \"DD0500/sb_0500\"]\n",
    "\n",
    "time = ['700 Myr', '900 Myr', '1.1 Gyr', '1.3 Gyr', '1.5 Gyr',\\\n",
    "         '2.2 Gyr', '3.0 Gyr', '4.0 Gyr', '5.0 Gyr']"
   ]
  },
  {
   "cell_type": "code",
   "execution_count": 5,
   "metadata": {
    "scrolled": true
   },
   "outputs": [
    {
     "name": "stderr",
     "output_type": "stream",
     "text": [
      "yt : [INFO     ] 2019-08-27 21:50:35,504 Parameters: current_time              = 700.00005986972\n",
      "yt : [INFO     ] 2019-08-27 21:50:35,505 Parameters: domain_dimensions         = [128 128 128]\n",
      "yt : [INFO     ] 2019-08-27 21:50:35,506 Parameters: domain_left_edge          = [-4. -4. -4.]\n",
      "yt : [INFO     ] 2019-08-27 21:50:35,506 Parameters: domain_right_edge         = [4. 4. 4.]\n",
      "yt : [INFO     ] 2019-08-27 21:50:35,507 Parameters: cosmological_simulation   = 0.0\n"
     ]
    },
    {
     "name": "stdout",
     "output_type": "stream",
     "text": [
      "File found! /home/aditiv/CGM/Pyxsim/Data/HR_0821_n6e-5_T1e6_hse_SFR10_Rsf2kpc/DD0070/sb_0070\n"
     ]
    },
    {
     "name": "stderr",
     "output_type": "stream",
     "text": [
      "Parsing Hierarchy : 100%|██████████| 881/881 [00:00<00:00, 32550.93it/s]\n",
      "yt : [INFO     ] 2019-08-27 21:50:35,595 Gathering a field list (this may take a moment.)\n",
      "soxs : [INFO     ] 2019-08-27 21:51:06,325 Using APEC version 3.0.9.\n",
      "soxs : [INFO     ] 2019-08-27 21:51:06,331 Using apec_v3.0.9_line.fits for generating spectral lines.\n",
      "soxs : [INFO     ] 2019-08-27 21:51:06,334 Using apec_v3.0.9_coco.fits for generating the continuum.\n",
      "pyxsim : [INFO     ] 2019-08-27 21:51:06,410 Observing local source at distance 999.9999999999999 kpc.\n",
      "pyxsim : [INFO     ] 2019-08-27 21:51:06,411 Using emission measure field '(gas, emission_measure)'.\n",
      "pyxsim : [INFO     ] 2019-08-27 21:51:06,412 Using temperature field '(gas, temperature)'.\n",
      "Processing cells/particles : 100%|█████████▉| 1810635/1811289 [01:04<00:00, 27489.04it/s]pyxsim : [INFO     ] 2019-08-27 21:52:25,592 Finished generating photons.\n",
      "pyxsim : [INFO     ] 2019-08-27 21:52:26,412 Number of photons generated: 246850824\n",
      "pyxsim : [INFO     ] 2019-08-27 21:52:26,413 Number of cells with photons: 1808658\n",
      "pyxsim : [INFO     ] 2019-08-27 21:52:36,486 Doppler-shifting photon energies.\n",
      "Doppler shifting photons: 100%|██████████| 1808658/1808658 [00:01<00:00, 1413164.13it/s]\n",
      "pyxsim : [INFO     ] 2019-08-27 21:53:04,224 Foreground galactic absorption: using the wabs model and nH = 0.0193.\n",
      "Absorbing photons: 100%|██████████| 246850824/246850824 [00:41<00:00, 6012826.79it/s]\n",
      "pyxsim : [INFO     ] 2019-08-27 21:53:58,804 57546047 events have been detected.\n",
      "pyxsim : [INFO     ] 2019-08-27 21:54:00,677 Assigning positions to events.\n",
      "Generating event positions: 100%|██████████| 1808658/1808658 [00:44<00:00, 40807.25it/s] \n",
      "pyxsim : [INFO     ] 2019-08-27 21:54:48,292 Converting pixel to sky coordinates.\n",
      "Converting pixel to celestial coordinates: 100%|██████████| 57546047/57546047 [01:00<00:00, 957182.50it/s] \n"
     ]
    },
    {
     "name": "stdout",
     "output_type": "stream",
     "text": [
      "EVENT LIST FOR SIMULATION BOX GENERATED!\n"
     ]
    },
    {
     "name": "stderr",
     "output_type": "stream",
     "text": [
      "yt : [INFO     ] 2019-08-27 21:56:07,553 Parameters: current_time              = 899.99997171437\n",
      "yt : [INFO     ] 2019-08-27 21:56:07,582 Parameters: domain_dimensions         = [128 128 128]\n",
      "yt : [INFO     ] 2019-08-27 21:56:07,723 Parameters: domain_left_edge          = [-4. -4. -4.]\n",
      "yt : [INFO     ] 2019-08-27 21:56:07,826 Parameters: domain_right_edge         = [4. 4. 4.]\n",
      "yt : [INFO     ] 2019-08-27 21:56:07,829 Parameters: cosmological_simulation   = 0.0\n"
     ]
    },
    {
     "name": "stdout",
     "output_type": "stream",
     "text": [
      "File found! /home/aditiv/CGM/Pyxsim/Data/HR_0821_n6e-5_T1e6_hse_SFR10_Rsf2kpc/DD0090/sb_0090\n"
     ]
    },
    {
     "name": "stderr",
     "output_type": "stream",
     "text": [
      "Parsing Hierarchy : 100%|██████████| 881/881 [00:00<00:00, 1147.83it/s]\n",
      "yt : [INFO     ] 2019-08-27 21:56:10,318 Gathering a field list (this may take a moment.)\n",
      "soxs : [INFO     ] 2019-08-27 21:57:27,308 Using APEC version 3.0.9.\n",
      "soxs : [INFO     ] 2019-08-27 21:57:27,314 Using apec_v3.0.9_line.fits for generating spectral lines.\n",
      "soxs : [INFO     ] 2019-08-27 21:57:27,316 Using apec_v3.0.9_coco.fits for generating the continuum.\n",
      "pyxsim : [INFO     ] 2019-08-27 21:57:27,870 Observing local source at distance 999.9999999999999 kpc.\n",
      "pyxsim : [INFO     ] 2019-08-27 21:57:27,875 Using emission measure field '(gas, emission_measure)'.\n",
      "pyxsim : [INFO     ] 2019-08-27 21:57:27,878 Using temperature field '(gas, temperature)'.\n",
      "Processing cells/particles : 100%|█████████▉| 1826252/1827371 [01:26<00:00, 30029.82it/s]pyxsim : [INFO     ] 2019-08-27 22:00:10,959 Finished generating photons.\n",
      "pyxsim : [INFO     ] 2019-08-27 22:00:12,898 Number of photons generated: 231741900\n",
      "pyxsim : [INFO     ] 2019-08-27 22:00:12,899 Number of cells with photons: 1827159\n",
      "pyxsim : [INFO     ] 2019-08-27 22:00:46,450 Doppler-shifting photon energies.\n",
      "Doppler shifting photons: 100%|██████████| 1827159/1827159 [00:01<00:00, 1339837.29it/s]\n",
      "pyxsim : [INFO     ] 2019-08-27 22:01:50,930 Foreground galactic absorption: using the wabs model and nH = 0.0193.\n",
      "Absorbing photons: 100%|██████████| 231741900/231741900 [00:33<00:00, 9503075.96it/s]\n",
      "pyxsim : [INFO     ] 2019-08-27 22:02:38,285 66188818 events have been detected.\n",
      "pyxsim : [INFO     ] 2019-08-27 22:02:41,758 Assigning positions to events.\n",
      "Generating event positions: 100%|██████████| 1827159/1827159 [00:50<00:00, 36509.74it/s] \n",
      "pyxsim : [INFO     ] 2019-08-27 22:03:33,000 Converting pixel to sky coordinates.\n",
      "Converting pixel to celestial coordinates: 100%|██████████| 66188818/66188818 [00:48<00:00, 1372391.52it/s]\n"
     ]
    },
    {
     "name": "stdout",
     "output_type": "stream",
     "text": [
      "EVENT LIST FOR SIMULATION BOX GENERATED!\n"
     ]
    },
    {
     "name": "stderr",
     "output_type": "stream",
     "text": [
      "yt : [INFO     ] 2019-08-27 22:04:29,586 Parameters: current_time              = 1100.0000084892\n",
      "yt : [INFO     ] 2019-08-27 22:04:29,588 Parameters: domain_dimensions         = [128 128 128]\n",
      "yt : [INFO     ] 2019-08-27 22:04:29,590 Parameters: domain_left_edge          = [-4. -4. -4.]\n",
      "yt : [INFO     ] 2019-08-27 22:04:29,593 Parameters: domain_right_edge         = [4. 4. 4.]\n",
      "yt : [INFO     ] 2019-08-27 22:04:29,596 Parameters: cosmological_simulation   = 0.0\n"
     ]
    },
    {
     "name": "stdout",
     "output_type": "stream",
     "text": [
      "File found! /home/aditiv/CGM/Pyxsim/Data/HR_0821_n6e-5_T1e6_hse_SFR10_Rsf2kpc/DD0110/sb_0110\n"
     ]
    },
    {
     "name": "stderr",
     "output_type": "stream",
     "text": [
      "Parsing Hierarchy : 100%|██████████| 881/881 [00:00<00:00, 4891.29it/s]\n",
      "yt : [INFO     ] 2019-08-27 22:04:47,568 Gathering a field list (this may take a moment.)\n",
      "soxs : [INFO     ] 2019-08-27 22:05:49,957 Using APEC version 3.0.9.\n",
      "soxs : [INFO     ] 2019-08-27 22:05:49,958 Using apec_v3.0.9_line.fits for generating spectral lines.\n",
      "soxs : [INFO     ] 2019-08-27 22:05:49,960 Using apec_v3.0.9_coco.fits for generating the continuum.\n",
      "pyxsim : [INFO     ] 2019-08-27 22:05:50,718 Observing local source at distance 999.9999999999999 kpc.\n",
      "pyxsim : [INFO     ] 2019-08-27 22:05:50,722 Using emission measure field '(gas, emission_measure)'.\n",
      "pyxsim : [INFO     ] 2019-08-27 22:05:50,725 Using temperature field '(gas, temperature)'.\n",
      "Processing cells/particles : 100%|█████████▉| 1828872/1831175 [02:22<00:00, 33585.24it/s]pyxsim : [INFO     ] 2019-08-27 22:09:26,318 Finished generating photons.\n",
      "pyxsim : [INFO     ] 2019-08-27 22:09:26,676 Number of photons generated: 201412592\n",
      "pyxsim : [INFO     ] 2019-08-27 22:09:26,714 Number of cells with photons: 1830986\n",
      "pyxsim : [INFO     ] 2019-08-27 22:09:30,923 Doppler-shifting photon energies.\n",
      "Doppler shifting photons: 100%|██████████| 1830986/1830986 [00:01<00:00, 1227023.90it/s]\n",
      "pyxsim : [INFO     ] 2019-08-27 22:09:33,643 Foreground galactic absorption: using the wabs model and nH = 0.0193.\n",
      "Absorbing photons: 100%|██████████| 201412592/201412592 [00:28<00:00, 7016448.44it/s]\n",
      "pyxsim : [INFO     ] 2019-08-27 22:10:13,155 52648315 events have been detected.\n",
      "pyxsim : [INFO     ] 2019-08-27 22:10:15,931 Assigning positions to events.\n",
      "Generating event positions: 100%|██████████| 1830986/1830986 [00:37<00:00, 49121.33it/s] \n",
      "pyxsim : [INFO     ] 2019-08-27 22:11:05,795 Converting pixel to sky coordinates.\n",
      "Converting pixel to celestial coordinates: 100%|██████████| 52648315/52648315 [00:47<00:00, 1106898.27it/s]\n"
     ]
    },
    {
     "name": "stdout",
     "output_type": "stream",
     "text": [
      "EVENT LIST FOR SIMULATION BOX GENERATED!\n"
     ]
    },
    {
     "name": "stderr",
     "output_type": "stream",
     "text": [
      "yt : [INFO     ] 2019-08-27 22:12:11,015 Parameters: current_time              = 1299.9999474465\n",
      "yt : [INFO     ] 2019-08-27 22:12:11,032 Parameters: domain_dimensions         = [128 128 128]\n",
      "yt : [INFO     ] 2019-08-27 22:12:11,132 Parameters: domain_left_edge          = [-4. -4. -4.]\n",
      "yt : [INFO     ] 2019-08-27 22:12:11,302 Parameters: domain_right_edge         = [4. 4. 4.]\n",
      "yt : [INFO     ] 2019-08-27 22:12:11,305 Parameters: cosmological_simulation   = 0.0\n"
     ]
    },
    {
     "name": "stdout",
     "output_type": "stream",
     "text": [
      "File found! /home/aditiv/CGM/Pyxsim/Data/HR_0821_n6e-5_T1e6_hse_SFR10_Rsf2kpc/DD0130/sb_0130\n"
     ]
    },
    {
     "name": "stderr",
     "output_type": "stream",
     "text": [
      "Parsing Hierarchy : 100%|██████████| 881/881 [00:01<00:00, 745.78it/s]\n",
      "yt : [INFO     ] 2019-08-27 22:12:14,493 Gathering a field list (this may take a moment.)\n",
      "soxs : [INFO     ] 2019-08-27 22:13:41,608 Using APEC version 3.0.9.\n",
      "soxs : [INFO     ] 2019-08-27 22:13:41,637 Using apec_v3.0.9_line.fits for generating spectral lines.\n",
      "soxs : [INFO     ] 2019-08-27 22:13:41,643 Using apec_v3.0.9_coco.fits for generating the continuum.\n",
      "pyxsim : [INFO     ] 2019-08-27 22:13:43,253 Observing local source at distance 999.9999999999999 kpc.\n",
      "pyxsim : [INFO     ] 2019-08-27 22:13:43,258 Using emission measure field '(gas, emission_measure)'.\n",
      "pyxsim : [INFO     ] 2019-08-27 22:13:43,261 Using temperature field '(gas, temperature)'.\n",
      "Processing cells/particles : 100%|█████████▉| 1826565/1829827 [01:23<00:00, 36432.14it/s]pyxsim : [INFO     ] 2019-08-27 22:15:22,664 Finished generating photons.\n",
      "pyxsim : [INFO     ] 2019-08-27 22:15:22,667 Number of photons generated: 165396940\n",
      "pyxsim : [INFO     ] 2019-08-27 22:15:22,668 Number of cells with photons: 1829368\n",
      "pyxsim : [INFO     ] 2019-08-27 22:15:23,105 Doppler-shifting photon energies.\n",
      "Doppler shifting photons: 100%|██████████| 1829368/1829368 [00:01<00:00, 1445319.02it/s]\n",
      "pyxsim : [INFO     ] 2019-08-27 22:15:24,415 Foreground galactic absorption: using the wabs model and nH = 0.0193.\n",
      "Absorbing photons: 100%|██████████| 165396940/165396940 [00:17<00:00, 9478955.78it/s]\n",
      "pyxsim : [INFO     ] 2019-08-27 22:15:42,569 45128840 events have been detected.\n",
      "pyxsim : [INFO     ] 2019-08-27 22:15:42,570 Assigning positions to events.\n",
      "Generating event positions: 100%|██████████| 1829368/1829368 [00:19<00:00, 94964.23it/s]  \n",
      "pyxsim : [INFO     ] 2019-08-27 22:16:04,436 Converting pixel to sky coordinates.\n",
      "Converting pixel to celestial coordinates: 100%|██████████| 45128840/45128840 [00:38<00:00, 1178288.82it/s]\n"
     ]
    },
    {
     "name": "stdout",
     "output_type": "stream",
     "text": [
      "EVENT LIST FOR SIMULATION BOX GENERATED!\n"
     ]
    },
    {
     "name": "stderr",
     "output_type": "stream",
     "text": [
      "yt : [INFO     ] 2019-08-27 22:16:51,151 Parameters: current_time              = 1500.0000383547\n",
      "yt : [INFO     ] 2019-08-27 22:16:51,153 Parameters: domain_dimensions         = [128 128 128]\n",
      "yt : [INFO     ] 2019-08-27 22:16:51,155 Parameters: domain_left_edge          = [-4. -4. -4.]\n",
      "yt : [INFO     ] 2019-08-27 22:16:51,169 Parameters: domain_right_edge         = [4. 4. 4.]\n",
      "yt : [INFO     ] 2019-08-27 22:16:51,170 Parameters: cosmological_simulation   = 0.0\n"
     ]
    },
    {
     "name": "stdout",
     "output_type": "stream",
     "text": [
      "File found! /home/aditiv/CGM/Pyxsim/Data/HR_0821_n6e-5_T1e6_hse_SFR10_Rsf2kpc/DD0150/sb_0150\n"
     ]
    },
    {
     "name": "stderr",
     "output_type": "stream",
     "text": [
      "Parsing Hierarchy : 100%|██████████| 881/881 [00:00<00:00, 3445.68it/s]\n",
      "yt : [INFO     ] 2019-08-27 22:16:51,909 Gathering a field list (this may take a moment.)\n",
      "soxs : [INFO     ] 2019-08-27 22:17:52,536 Using APEC version 3.0.9.\n",
      "soxs : [INFO     ] 2019-08-27 22:17:52,542 Using apec_v3.0.9_line.fits for generating spectral lines.\n",
      "soxs : [INFO     ] 2019-08-27 22:17:52,560 Using apec_v3.0.9_coco.fits for generating the continuum.\n",
      "pyxsim : [INFO     ] 2019-08-27 22:17:52,738 Observing local source at distance 999.9999999999999 kpc.\n",
      "pyxsim : [INFO     ] 2019-08-27 22:17:52,739 Using emission measure field '(gas, emission_measure)'.\n",
      "pyxsim : [INFO     ] 2019-08-27 22:17:52,740 Using temperature field '(gas, temperature)'.\n",
      "Processing cells/particles : 100%|█████████▉| 1828707/1830973 [01:12<00:00, 37689.09it/s]pyxsim : [INFO     ] 2019-08-27 22:19:22,148 Finished generating photons.\n",
      "pyxsim : [INFO     ] 2019-08-27 22:19:22,150 Number of photons generated: 133327321\n",
      "pyxsim : [INFO     ] 2019-08-27 22:19:22,151 Number of cells with photons: 1830194\n",
      "pyxsim : [INFO     ] 2019-08-27 22:19:22,384 Doppler-shifting photon energies.\n",
      "Doppler shifting photons: 100%|██████████| 1830194/1830194 [00:01<00:00, 1485176.47it/s]\n",
      "pyxsim : [INFO     ] 2019-08-27 22:19:23,623 Foreground galactic absorption: using the wabs model and nH = 0.0193.\n",
      "Absorbing photons: 100%|██████████| 133327321/133327321 [00:14<00:00, 9507352.84it/s]\n",
      "pyxsim : [INFO     ] 2019-08-27 22:19:38,236 36653566 events have been detected.\n",
      "pyxsim : [INFO     ] 2019-08-27 22:19:38,237 Assigning positions to events.\n",
      "Generating event positions: 100%|██████████| 1830194/1830194 [00:02<00:00, 843194.36it/s] \n",
      "pyxsim : [INFO     ] 2019-08-27 22:19:40,509 Converting pixel to sky coordinates.\n",
      "Converting pixel to celestial coordinates: 100%|██████████| 36653566/36653566 [00:26<00:00, 1360107.78it/s]\n"
     ]
    },
    {
     "name": "stdout",
     "output_type": "stream",
     "text": [
      "EVENT LIST FOR SIMULATION BOX GENERATED!\n"
     ]
    },
    {
     "name": "stderr",
     "output_type": "stream",
     "text": [
      "yt : [INFO     ] 2019-08-27 22:20:11,545 Parameters: current_time              = 2199.9999640339\n",
      "yt : [INFO     ] 2019-08-27 22:20:11,546 Parameters: domain_dimensions         = [128 128 128]\n",
      "yt : [INFO     ] 2019-08-27 22:20:11,547 Parameters: domain_left_edge          = [-4. -4. -4.]\n",
      "yt : [INFO     ] 2019-08-27 22:20:11,548 Parameters: domain_right_edge         = [4. 4. 4.]\n",
      "yt : [INFO     ] 2019-08-27 22:20:11,549 Parameters: cosmological_simulation   = 0.0\n"
     ]
    },
    {
     "name": "stdout",
     "output_type": "stream",
     "text": [
      "File found! /home/aditiv/CGM/Pyxsim/Data/HR_0821_1e-6_SFR3/DD0220/sb_0220\n"
     ]
    },
    {
     "name": "stderr",
     "output_type": "stream",
     "text": [
      "Parsing Hierarchy : 100%|██████████| 481/481 [00:00<00:00, 14793.58it/s]\n",
      "yt : [INFO     ] 2019-08-27 22:20:11,613 Gathering a field list (this may take a moment.)\n",
      "soxs : [INFO     ] 2019-08-27 22:21:02,030 Using APEC version 3.0.9.\n",
      "soxs : [INFO     ] 2019-08-27 22:21:02,031 Using apec_v3.0.9_line.fits for generating spectral lines.\n",
      "soxs : [INFO     ] 2019-08-27 22:21:02,033 Using apec_v3.0.9_coco.fits for generating the continuum.\n",
      "pyxsim : [INFO     ] 2019-08-27 22:21:02,087 Observing local source at distance 999.9999999999999 kpc.\n",
      "pyxsim : [INFO     ] 2019-08-27 22:21:02,088 Using emission measure field '(gas, emission_measure)'.\n",
      "pyxsim : [INFO     ] 2019-08-27 22:21:02,092 Using temperature field '(gas, temperature)'.\n",
      "Processing cells/particles : 100%|█████████▉| 1803831/1804657 [01:03<00:00, 36872.95it/s]pyxsim : [INFO     ] 2019-08-27 22:22:30,915 Finished generating photons.\n",
      "pyxsim : [INFO     ] 2019-08-27 22:22:30,917 Number of photons generated: 56610178\n",
      "pyxsim : [INFO     ] 2019-08-27 22:22:30,918 Number of cells with photons: 1791164\n",
      "pyxsim : [INFO     ] 2019-08-27 22:22:31,048 Doppler-shifting photon energies.\n",
      "Doppler shifting photons: 100%|██████████| 1791164/1791164 [00:01<00:00, 1465458.81it/s]\n",
      "pyxsim : [INFO     ] 2019-08-27 22:22:32,277 Foreground galactic absorption: using the wabs model and nH = 0.0193.\n",
      "Absorbing photons: 100%|██████████| 56610178/56610178 [00:06<00:00, 9404000.66it/s] \n",
      "pyxsim : [INFO     ] 2019-08-27 22:22:38,524 12394489 events have been detected.\n",
      "pyxsim : [INFO     ] 2019-08-27 22:22:38,525 Assigning positions to events.\n",
      "Generating event positions: 100%|██████████| 1791164/1791164 [00:01<00:00, 1202907.26it/s]\n",
      "pyxsim : [INFO     ] 2019-08-27 22:22:40,059 Converting pixel to sky coordinates.\n",
      "Converting pixel to celestial coordinates: 100%|██████████| 12394489/12394489 [00:09<00:00, 1298735.05it/s]\n"
     ]
    },
    {
     "name": "stdout",
     "output_type": "stream",
     "text": [
      "EVENT LIST FOR SIMULATION BOX GENERATED!\n"
     ]
    },
    {
     "name": "stderr",
     "output_type": "stream",
     "text": [
      "yt : [INFO     ] 2019-08-27 22:22:51,100 Parameters: current_time              = 3000.0001595029\n",
      "yt : [INFO     ] 2019-08-27 22:22:51,100 Parameters: domain_dimensions         = [128 128 128]\n",
      "yt : [INFO     ] 2019-08-27 22:22:51,101 Parameters: domain_left_edge          = [-4. -4. -4.]\n",
      "yt : [INFO     ] 2019-08-27 22:22:51,101 Parameters: domain_right_edge         = [4. 4. 4.]\n",
      "yt : [INFO     ] 2019-08-27 22:22:51,102 Parameters: cosmological_simulation   = 0.0\n"
     ]
    },
    {
     "name": "stdout",
     "output_type": "stream",
     "text": [
      "File found! /home/aditiv/CGM/Pyxsim/Data/HR_0821_1e-6_SFR3/DD0300/sb_0300\n"
     ]
    },
    {
     "name": "stderr",
     "output_type": "stream",
     "text": [
      "Parsing Hierarchy : 100%|██████████| 481/481 [00:00<00:00, 17817.84it/s]\n",
      "yt : [INFO     ] 2019-08-27 22:22:51,174 Gathering a field list (this may take a moment.)\n",
      "soxs : [INFO     ] 2019-08-27 22:23:21,491 Using APEC version 3.0.9.\n",
      "soxs : [INFO     ] 2019-08-27 22:23:21,496 Using apec_v3.0.9_line.fits for generating spectral lines.\n",
      "soxs : [INFO     ] 2019-08-27 22:23:21,499 Using apec_v3.0.9_coco.fits for generating the continuum.\n",
      "pyxsim : [INFO     ] 2019-08-27 22:23:21,794 Observing local source at distance 999.9999999999999 kpc.\n",
      "pyxsim : [INFO     ] 2019-08-27 22:23:21,795 Using emission measure field '(gas, emission_measure)'.\n",
      "pyxsim : [INFO     ] 2019-08-27 22:23:21,796 Using temperature field '(gas, temperature)'.\n",
      "Processing cells/particles : 100%|█████████▉| 1822817/1824096 [01:04<00:00, 30435.27it/s]pyxsim : [INFO     ] 2019-08-27 22:24:36,181 Finished generating photons.\n",
      "pyxsim : [INFO     ] 2019-08-27 22:24:36,184 Number of photons generated: 204120976\n",
      "pyxsim : [INFO     ] 2019-08-27 22:24:36,185 Number of cells with photons: 1819102\n",
      "pyxsim : [INFO     ] 2019-08-27 22:24:36,532 Doppler-shifting photon energies.\n",
      "Doppler shifting photons: 100%|██████████| 1819102/1819102 [00:01<00:00, 1346712.46it/s]\n",
      "pyxsim : [INFO     ] 2019-08-27 22:24:37,896 Foreground galactic absorption: using the wabs model and nH = 0.0193.\n",
      "Absorbing photons: 100%|██████████| 204120976/204120976 [00:21<00:00, 9539899.45it/s]\n",
      "pyxsim : [INFO     ] 2019-08-27 22:25:00,016 33261365 events have been detected.\n",
      "pyxsim : [INFO     ] 2019-08-27 22:25:00,017 Assigning positions to events.\n",
      "Generating event positions: 100%|██████████| 1819102/1819102 [00:02<00:00, 823896.35it/s] \n",
      "pyxsim : [INFO     ] 2019-08-27 22:25:02,318 Converting pixel to sky coordinates.\n",
      "Converting pixel to celestial coordinates: 100%|██████████| 33261365/33261365 [00:24<00:00, 1360387.28it/s]\n"
     ]
    },
    {
     "name": "stdout",
     "output_type": "stream",
     "text": [
      "EVENT LIST FOR SIMULATION BOX GENERATED!\n"
     ]
    },
    {
     "name": "stderr",
     "output_type": "stream",
     "text": [
      "yt : [INFO     ] 2019-08-27 22:25:30,735 Parameters: current_time              = 4000.0001044978\n",
      "yt : [INFO     ] 2019-08-27 22:25:30,737 Parameters: domain_dimensions         = [128 128 128]\n",
      "yt : [INFO     ] 2019-08-27 22:25:30,739 Parameters: domain_left_edge          = [-4. -4. -4.]\n",
      "yt : [INFO     ] 2019-08-27 22:25:30,741 Parameters: domain_right_edge         = [4. 4. 4.]\n",
      "yt : [INFO     ] 2019-08-27 22:25:30,744 Parameters: cosmological_simulation   = 0.0\n"
     ]
    },
    {
     "name": "stdout",
     "output_type": "stream",
     "text": [
      "File found! /home/aditiv/CGM/Pyxsim/Data/HR_0821_1e-6_SFR3/DD0400/sb_0400\n"
     ]
    },
    {
     "name": "stderr",
     "output_type": "stream",
     "text": [
      "Parsing Hierarchy : 100%|██████████| 481/481 [00:00<00:00, 21136.75it/s]\n",
      "yt : [INFO     ] 2019-08-27 22:25:30,814 Gathering a field list (this may take a moment.)\n",
      "soxs : [INFO     ] 2019-08-27 22:26:04,785 Using APEC version 3.0.9.\n",
      "soxs : [INFO     ] 2019-08-27 22:26:04,791 Using apec_v3.0.9_line.fits for generating spectral lines.\n",
      "soxs : [INFO     ] 2019-08-27 22:26:04,794 Using apec_v3.0.9_coco.fits for generating the continuum.\n",
      "pyxsim : [INFO     ] 2019-08-27 22:26:04,945 Observing local source at distance 999.9999999999999 kpc.\n",
      "pyxsim : [INFO     ] 2019-08-27 22:26:04,947 Using emission measure field '(gas, emission_measure)'.\n",
      "pyxsim : [INFO     ] 2019-08-27 22:26:04,948 Using temperature field '(gas, temperature)'.\n",
      "Processing cells/particles : 100%|█████████▉| 1837637/1838439 [00:57<00:00, 33564.46it/s]pyxsim : [INFO     ] 2019-08-27 22:27:13,582 Finished generating photons.\n",
      "pyxsim : [INFO     ] 2019-08-27 22:27:13,585 Number of photons generated: 130722387\n",
      "pyxsim : [INFO     ] 2019-08-27 22:27:13,586 Number of cells with photons: 1830984\n",
      "pyxsim : [INFO     ] 2019-08-27 22:27:13,831 Doppler-shifting photon energies.\n",
      "Doppler shifting photons: 100%|██████████| 1830984/1830984 [00:01<00:00, 1399034.03it/s]\n",
      "pyxsim : [INFO     ] 2019-08-27 22:27:15,148 Foreground galactic absorption: using the wabs model and nH = 0.0193.\n",
      "Absorbing photons: 100%|██████████| 130722387/130722387 [00:13<00:00, 9493949.91it/s]\n",
      "pyxsim : [INFO     ] 2019-08-27 22:27:29,412 21364978 events have been detected.\n",
      "pyxsim : [INFO     ] 2019-08-27 22:27:29,413 Assigning positions to events.\n",
      "Generating event positions: 100%|██████████| 1830984/1830984 [00:01<00:00, 1002502.11it/s]\n",
      "pyxsim : [INFO     ] 2019-08-27 22:27:31,305 Converting pixel to sky coordinates.\n",
      "Converting pixel to celestial coordinates: 100%|██████████| 21364978/21364978 [00:15<00:00, 1362370.15it/s]\n"
     ]
    },
    {
     "name": "stdout",
     "output_type": "stream",
     "text": [
      "EVENT LIST FOR SIMULATION BOX GENERATED!\n"
     ]
    },
    {
     "name": "stderr",
     "output_type": "stream",
     "text": [
      "yt : [INFO     ] 2019-08-27 22:27:49,436 Parameters: current_time              = 4999.9999378355\n",
      "yt : [INFO     ] 2019-08-27 22:27:49,437 Parameters: domain_dimensions         = [128 128 128]\n",
      "yt : [INFO     ] 2019-08-27 22:27:49,438 Parameters: domain_left_edge          = [-4. -4. -4.]\n",
      "yt : [INFO     ] 2019-08-27 22:27:49,439 Parameters: domain_right_edge         = [4. 4. 4.]\n",
      "yt : [INFO     ] 2019-08-27 22:27:49,440 Parameters: cosmological_simulation   = 0.0\n"
     ]
    },
    {
     "name": "stdout",
     "output_type": "stream",
     "text": [
      "File found! /home/aditiv/CGM/Pyxsim/Data/HR_0821_1e-6_SFR3/DD0500/sb_0500\n"
     ]
    },
    {
     "name": "stderr",
     "output_type": "stream",
     "text": [
      "Parsing Hierarchy : 100%|██████████| 481/481 [00:00<00:00, 31691.67it/s]\n",
      "yt : [INFO     ] 2019-08-27 22:27:49,494 Gathering a field list (this may take a moment.)\n",
      "soxs : [INFO     ] 2019-08-27 22:28:19,150 Using APEC version 3.0.9.\n",
      "soxs : [INFO     ] 2019-08-27 22:28:19,157 Using apec_v3.0.9_line.fits for generating spectral lines.\n",
      "soxs : [INFO     ] 2019-08-27 22:28:19,162 Using apec_v3.0.9_coco.fits for generating the continuum.\n",
      "pyxsim : [INFO     ] 2019-08-27 22:28:19,221 Observing local source at distance 999.9999999999999 kpc.\n",
      "pyxsim : [INFO     ] 2019-08-27 22:28:19,223 Using emission measure field '(gas, emission_measure)'.\n",
      "pyxsim : [INFO     ] 2019-08-27 22:28:19,227 Using temperature field '(gas, temperature)'.\n",
      "Processing cells/particles : 100%|█████████▉| 1836170/1838005 [00:54<00:00, 36481.72it/s]pyxsim : [INFO     ] 2019-08-27 22:29:24,550 Finished generating photons.\n",
      "pyxsim : [INFO     ] 2019-08-27 22:29:24,553 Number of photons generated: 92719586\n",
      "pyxsim : [INFO     ] 2019-08-27 22:29:24,554 Number of cells with photons: 1815080\n",
      "pyxsim : [INFO     ] 2019-08-27 22:29:24,730 Doppler-shifting photon energies.\n",
      "Doppler shifting photons: 100%|██████████| 1815080/1815080 [00:01<00:00, 1447148.06it/s]\n",
      "pyxsim : [INFO     ] 2019-08-27 22:29:25,992 Foreground galactic absorption: using the wabs model and nH = 0.0193.\n",
      "Absorbing photons: 100%|██████████| 92719586/92719586 [00:09<00:00, 9631970.70it/s]\n",
      "pyxsim : [INFO     ] 2019-08-27 22:29:35,940 15270150 events have been detected.\n",
      "pyxsim : [INFO     ] 2019-08-27 22:29:35,941 Assigning positions to events.\n",
      "Generating event positions: 100%|██████████| 1815080/1815080 [00:01<00:00, 1160352.32it/s]\n",
      "pyxsim : [INFO     ] 2019-08-27 22:29:37,557 Converting pixel to sky coordinates.\n",
      "Converting pixel to celestial coordinates: 100%|██████████| 15270150/15270150 [00:11<00:00, 1371147.05it/s]\n"
     ]
    },
    {
     "name": "stdout",
     "output_type": "stream",
     "text": [
      "EVENT LIST FOR SIMULATION BOX GENERATED!\n"
     ]
    }
   ],
   "source": [
    "simmass = np.zeros((len(filename)))\n",
    "\n",
    "for f in folder:\n",
    "    for file in filename:\n",
    "        file_loc = base + f + file\n",
    "        \n",
    "        if(os.path.exists(file_loc)):\n",
    "            outfile  = f + file.split('/')[0] + '/'\n",
    "            \n",
    "    \n",
    "    \n",
    "            ds       = yt.load(file_loc)\n",
    "            print(\"File found!\", file_loc)\n",
    "            \n",
    "            sp        = ds.sphere('c',(50,'kpc'))\n",
    "            cr1       = sp.cut_region(\" (obj['z'].in_units('kpc')<6) & (obj['z'].in_units('kpc')>-6)\\\n",
    "                               & (obj['radius'].in_units('kpc')<20)  \" )\n",
    "\n",
    "            sim_cr    = sp - cr1\n",
    "\n",
    "            simmass   = sim_cr.quantities.total_quantity([\"cell_mass\"]).in_units('g')/Msun\n",
    "            \n",
    "            \n",
    "            Zmet         = (\"gas\", \"metallicity\")\n",
    "            source_model = pyxsim.ThermalSourceModel(\"apec\", 0.1, 5.0, 5000,Zmet=Zmet)\n",
    "\n",
    "\n",
    "            Photons      = pyxsim.PhotonList.from_data_source(sim_cr,0.0, area, exp_time, source_model, \\\n",
    "                                                         dist=dist)\n",
    "            Events       = Photons.project_photons(\"x\", (RA, dec), absorb_model=\"wabs\", nH=nH)\n",
    "        \n",
    "            energy = Events[\"eobs\"]\n",
    "            Ega = np.asarray(energy)\n",
    "            Sim_evnty, Sim_evntx   = np.histogram(Ega, bins=Bins)\n",
    "            sim_evnty, sim_evntx   = np.histogram(Ega,bins)\n",
    "            \n",
    "            \n",
    "            np.savetxt(outfile + \"sim_spec_HR.txt\",np.column_stack([Sim_evntx[:-1],Sim_evnty/t]))\n",
    "            np.savetxt(outfile + \"sim_spec_LR.txt\",np.column_stack([sim_evntx[:-1],sim_evnty/t]))\n",
    "            print(\"EVENT LIST FOR SIMULATION BOX GENERATED!\")\n",
    "            \n"
   ]
  },
  {
   "cell_type": "code",
   "execution_count": 6,
   "metadata": {},
   "outputs": [
    {
     "data": {
      "text/plain": [
       "'HR_0821_1e-6_SFR3/DD0500/'"
      ]
     },
     "execution_count": 6,
     "metadata": {},
     "output_type": "execute_result"
    }
   ],
   "source": [
    "outfile"
   ]
  },
  {
   "cell_type": "code",
   "execution_count": null,
   "metadata": {
    "scrolled": false
   },
   "outputs": [],
   "source": [
    "k = 0\n",
    "base     = \"/home/aditiv/CGM/Pyxsim/Spectra/\"\n",
    "\n",
    "hsv2rgb = lambda hue: mcolors.hsv_to_rgb([hue,0.9,0.7])\n",
    "hues = np.linspace(0, 1., len(filename))\n",
    "colors = [hsv2rgb(hue) for hue in hues]\n",
    "\n",
    "label   = ['n6e-5$\\Sigma$10M$_{\\odot}$', 'n1e-6$\\Sigma$3M$_{\\odot}$']\n",
    "short   = [\"hdhsfr\", \"ldlsfr\"]\n",
    "color = ['forestgreen', 'navy', 'darkmagenta']\n",
    "\n",
    "short   = [\"hdhsfr\", \"ldlsfr\"]\n",
    "\n",
    "for fold in folder:\n",
    "    f, ax = plt.subplots(1, 3, gridspec_kw = {'wspace':0., 'hspace':0.,},\\\n",
    "                        figsize=(18, 6))\n",
    "    j = 0 \n",
    "    hsv2rgb = lambda hue: mcolors.hsv_to_rgb([hue,0.9,0.7])\n",
    "    hues = np.linspace(0, 1.0, len(filename))\n",
    "    colors = [hsv2rgb(hue) for hue in hues]\n",
    "    for file in filename:\n",
    "        \n",
    "        file_loc = base + fold +  file.split('/')[0] + '/'\n",
    "        \n",
    "        if(os.path.exists(file_loc)):\n",
    "            Sim_evntx   = np.loadtxt(file_loc + \"sim_spec_HR.txt\",usecols=0)\n",
    "            Sim_evnty   = np.loadtxt(file_loc + \"sim_spec_HR.txt\",usecols=1)\n",
    "            for i in range(3):\n",
    "                ax[i].tick_params(direction='in', which='both')\n",
    "                ax[i].tick_params(labelsize=18)\n",
    "                ax[i].tick_params(size=10.0)\n",
    "                ax[i].tick_params(size=5.0,which='minor')\n",
    "                ax[i].tick_params(width=1.2)\n",
    "                ax[i].tick_params(width=0.5,which='minor')\n",
    "                ax[i].tick_params('y', which='both', right=True)\n",
    "                ax[i].set_yscale('log')\n",
    "                ax[i].set_ylabel(r'Counts s$^{-1}$ keV$^{-1}$') \n",
    "                ax[i].plot(Sim_evntx, Sim_evnty/Sim_evntx, '-.',label=time[j], color=colors[j])\n",
    "                if(i!=0): plt.setp(ax[i], \"yticklabels\", \"\")\n",
    "            \n",
    "            ax[0].set_xlim(.1,2.0)\n",
    "            ax[1].set_xlim(.6,0.7)\n",
    "            ax[2].set_xlim(.7,0.8)\n",
    "            plt.setp(ax, \"xlabel\", 'Energy [keV]')\n",
    "            plt.setp(ax, \"ylabel\", \"\")\n",
    "            ax[0].legend()\n",
    "            ax[0].set_ylabel(r'Counts s$^{-1}$ keV$^{-1}$') \n",
    "            plt.setp(ax, \"ylim\", (1.e-4, 50.))\n",
    "            plt.setp(ax[0],'xticks',(0.1,0.5,1.0,1.5))\n",
    "            plt.setp(ax[1],'xticks',np.arange(0.6,0.7,0.02))\n",
    "            plt.setp(ax[2],'xticks',np.arange(0.7,0.8,0.02))\n",
    "        \n",
    "        j = j + 1\n",
    "    plt.savefig(base + short[k]  + '_spectrum_tseries.pdf', bbox_inches='tight',dpi=160) \n",
    "    k = k + 1\n",
    "                    "
   ]
  },
  {
   "cell_type": "code",
   "execution_count": 13,
   "metadata": {},
   "outputs": [
    {
     "name": "stderr",
     "output_type": "stream",
     "text": [
      "/home/aditiv/anaconda3/lib/python3.6/site-packages/ipykernel_launcher.py:35: RuntimeWarning: divide by zero encountered in true_divide\n",
      "/home/aditiv/anaconda3/lib/python3.6/site-packages/ipykernel_launcher.py:30: RuntimeWarning: divide by zero encountered in true_divide\n",
      "/home/aditiv/anaconda3/lib/python3.6/site-packages/ipykernel_launcher.py:31: RuntimeWarning: divide by zero encountered in true_divide\n"
     ]
    },
    {
     "data": {
      "image/png": "[encoded data removed]",
      "text/plain": [
       "<Figure size 432x432 with 1 Axes>"
      ]
     },
     "metadata": {},
     "output_type": "display_data"
    },
    {
     "data": {
      "image/png": "[encoded data removed]",
      "text/plain": [
       "<Figure size 432x432 with 1 Axes>"
      ]
     },
     "metadata": {},
     "output_type": "display_data"
    }
   ],
   "source": [
    "k = 0\n",
    "base     = \"/home/aditiv/CGM/Pyxsim/Spectra/\"\n",
    "\n",
    "hsv2rgb = lambda hue: mcolors.hsv_to_rgb([hue,0.9,0.7])\n",
    "hues = np.linspace(0, 1., len(filename))\n",
    "colors = [hsv2rgb(hue) for hue in hues]\n",
    "\n",
    "label   = ['n6e-5$\\Sigma$10M$_{\\odot}$', 'n1e-6$\\Sigma$3M$_{\\odot}$']\n",
    "short   = [\"hdhsfr\", \"ldlsfr\"]\n",
    "color = ['forestgreen', 'navy', 'darkmagenta']\n",
    "\n",
    "short   = [\"hdhsfr\", \"ldlsfr\"]\n",
    "\n",
    "\n",
    "\n",
    "for fold in folder:\n",
    "    f, ax = plt.subplots(1, 1, gridspec_kw = {'wspace':0., 'hspace':0.,},\\\n",
    "                        figsize=(6, 6))\n",
    "    j = 0 \n",
    "    hsv2rgb = lambda hue: mcolors.hsv_to_rgb([hue,0.9,0.7])\n",
    "    hues = np.linspace(0, 1.0, len(filename))\n",
    "    colors = [hsv2rgb(hue) for hue in hues]\n",
    "    for file in filename:\n",
    "        \n",
    "        file_loc = base + fold +  file.split('/')[0] + '/'\n",
    "        \n",
    "        if(os.path.exists(file_loc)):\n",
    "            sim_evntx   = np.loadtxt(file_loc + \"sim_spec_LR.txt\",usecols=0)\n",
    "            sim_evnty   = np.loadtxt(file_loc + \"sim_spec_LR.txt\",usecols=1)\n",
    "            if(time[j]=='1.3 Gyr'):\n",
    "                ymin = sim_evnty/sim_evntx/2.\n",
    "                ymax = sim_evnty*2/sim_evntx \n",
    "                ax.fill_between(sim_evntx, ymin, ymax, color='antiquewhite')\n",
    "            plt.yscale('log')\n",
    "            plt.ylabel(r'Counts s$^{-1}$ keV$^{-1}$') \n",
    "            ax.plot(sim_evntx, sim_evnty/sim_evntx, '-.',label=time[j], color=colors[j])\n",
    "            \n",
    "            ax.set_xlim(.1,2.1)\n",
    "            plt.setp(ax, \"xlabel\", 'Energy [keV]')\n",
    "            ax.legend()\n",
    "            ax.set_ylabel(r'Counts s$^{-1}$ keV$^{-1}$') \n",
    "            plt.setp(ax, \"ylim\", (1.e-2, 2.e3))\n",
    "            plt.setp(ax,'xticks',(0.1,0.5,1.0,1.5, 2.0))\n",
    "            \n",
    "        j = j + 1\n",
    "    plt.savefig(base + short[k]  + '_spectrum_tseries_LR.pdf', bbox_inches='tight',dpi=160) \n",
    "    k = k + 1\n",
    "                    "
   ]
  },
  {
   "cell_type": "code",
   "execution_count": 8,
   "metadata": {},
   "outputs": [
    {
     "data": {
      "text/plain": [
       "'/home/aditiv/CGM/Pyxsim/Spectra/HR_0821_1e-6_SFR3/DD0500/'"
      ]
     },
     "execution_count": 8,
     "metadata": {},
     "output_type": "execute_result"
    }
   ],
   "source": [
    "file_loc"
   ]
  },
  {
   "cell_type": "code",
   "execution_count": null,
   "metadata": {},
   "outputs": [],
   "source": []
  }
 ],
 "metadata": {
  "kernelspec": {
   "display_name": "Python 3",
   "language": "python",
   "name": "python3"
  },
  "language_info": {
   "codemirror_mode": {
    "name": "ipython",
    "version": 3
   },
   "file_extension": ".py",
   "mimetype": "text/x-python",
   "name": "python",
   "nbconvert_exporter": "python",
   "pygments_lexer": "ipython3",
   "version": "3.6.5"
  }
 },
 "nbformat": 4,
 "nbformat_minor": 2
}
