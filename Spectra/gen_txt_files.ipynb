{
 "cells": [
  {
   "cell_type": "markdown",
   "metadata": {},
   "source": [
    "# Creates temperature, density and metallicity profiles for all time steps of all the runs. Stores these files in /working_dir/Run_Name/Time_Step/."
   ]
  },
  {
   "cell_type": "code",
   "execution_count": 1,
   "metadata": {},
   "outputs": [
    {
     "name": "stderr",
     "output_type": "stream",
     "text": [
      "/home/aditiv/anaconda3/lib/python3.6/site-packages/h5py/__init__.py:36: FutureWarning: Conversion of the second argument of issubdtype from `float` to `np.floating` is deprecated. In future, it will be treated as `np.float64 == np.dtype(float).type`.\n",
      "  from ._conv import register_converters as _register_converters\n",
      "/home/aditiv/anaconda3/lib/python3.6/site-packages/yt/analysis_modules/cosmological_observation/api.py:22: VisibleDeprecationWarning: Development of the LightRay module has been moved to the Trident package. This version is deprecated and will be removed from yt in a future release. See https://github.com/trident-project/trident for further information.\n",
      "  from .light_ray.api import \\\n",
      "/home/aditiv/anaconda3/lib/python3.6/site-packages/matplotlib/cbook/deprecation.py:107: MatplotlibDeprecationWarning: The mpl_toolkits.axes_grid module was deprecated in version 2.1. Use mpl_toolkits.axes_grid1 and mpl_toolkits.axisartist provies the same functionality instead.\n",
      "  warnings.warn(message, mplDeprecation, stacklevel=1)\n"
     ]
    }
   ],
   "source": [
    "%matplotlib inline\n",
    "import matplotlib\n",
    "matplotlib.rc(\"font\", size=18, family=\"serif\")\n",
    "import yt\n",
    "import numpy as np\n",
    "import matplotlib.pyplot as plt\n",
    "from yt.utilities.physical_ratios import cm_per_kpc, K_per_keV\n",
    "from yt.units import mp\n",
    "import pyxsim\n",
    "import soxs\n",
    "import aplpy\n",
    "import os"
   ]
  },
  {
   "cell_type": "code",
   "execution_count": 2,
   "metadata": {},
   "outputs": [],
   "source": [
    "base     = \"/home/aditiv/CGM/Pyxsim/Data/\"\n",
    "Msun = 2.e33\n",
    "\n",
    "folder   = [ \"HR_0821_n6e-5_T1e6_hse_SFR10_Rsf2kpc/\", \"HR_0821_1e-6_SFR3/\"]\n",
    "filename = [\"DD0070/sb_0070\", \\\n",
    "            \"DD0090/sb_0090\", \\\n",
    "            \"DD0110/sb_0110\", \\\n",
    "            \"DD0130/sb_0130\", \\\n",
    "            \"DD0150/sb_0150\", \\\n",
    "            \"DD0220/sb_0220\", \\\n",
    "            \"DD0300/sb_0300\", \\\n",
    "            \"DD0400/sb_0400\", \\\n",
    "            \"DD0500/sb_0500\"]"
   ]
  },
  {
   "cell_type": "code",
   "execution_count": 4,
   "metadata": {
    "scrolled": false
   },
   "outputs": [
    {
     "name": "stderr",
     "output_type": "stream",
     "text": [
      "yt : [INFO     ] 2019-10-03 14:00:51,495 Parameters: current_time              = 700.00005986972\n",
      "yt : [INFO     ] 2019-10-03 14:00:51,495 Parameters: domain_dimensions         = [128 128 128]\n",
      "yt : [INFO     ] 2019-10-03 14:00:51,496 Parameters: domain_left_edge          = [-4. -4. -4.]\n",
      "yt : [INFO     ] 2019-10-03 14:00:51,497 Parameters: domain_right_edge         = [4. 4. 4.]\n",
      "yt : [INFO     ] 2019-10-03 14:00:51,498 Parameters: cosmological_simulation   = 0.0\n"
     ]
    },
    {
     "name": "stdout",
     "output_type": "stream",
     "text": [
      "File found! /home/aditiv/CGM/Pyxsim/Data/HR_0821_n6e-5_T1e6_hse_SFR10_Rsf2kpc/DD0070/sb_0070\n"
     ]
    },
    {
     "name": "stderr",
     "output_type": "stream",
     "text": [
      "Parsing Hierarchy : 100%|██████████| 881/881 [00:00<00:00, 16250.84it/s]\n",
      "yt : [INFO     ] 2019-10-03 14:00:51,635 Gathering a field list (this may take a moment.)\n"
     ]
    },
    {
     "name": "stdout",
     "output_type": "stream",
     "text": [
      "Simulation mass= 82.97085104122773 g\n",
      "Outfile= HR_0821_n6e-5_T1e6_hse_SFR10_Rsf2kpc/DD0070/\n"
     ]
    },
    {
     "name": "stderr",
     "output_type": "stream",
     "text": [
      "yt : [INFO     ] 2019-10-03 14:01:31,602 Parameters: current_time              = 899.99997171437\n",
      "yt : [INFO     ] 2019-10-03 14:01:31,602 Parameters: domain_dimensions         = [128 128 128]\n",
      "yt : [INFO     ] 2019-10-03 14:01:31,603 Parameters: domain_left_edge          = [-4. -4. -4.]\n",
      "yt : [INFO     ] 2019-10-03 14:01:31,603 Parameters: domain_right_edge         = [4. 4. 4.]\n",
      "yt : [INFO     ] 2019-10-03 14:01:31,604 Parameters: cosmological_simulation   = 0.0\n"
     ]
    },
    {
     "name": "stdout",
     "output_type": "stream",
     "text": [
      "File found! /home/aditiv/CGM/Pyxsim/Data/HR_0821_n6e-5_T1e6_hse_SFR10_Rsf2kpc/DD0090/sb_0090\n"
     ]
    },
    {
     "name": "stderr",
     "output_type": "stream",
     "text": [
      "Parsing Hierarchy : 100%|██████████| 881/881 [00:00<00:00, 14352.45it/s]\n",
      "yt : [INFO     ] 2019-10-03 14:01:31,814 Gathering a field list (this may take a moment.)\n"
     ]
    },
    {
     "name": "stdout",
     "output_type": "stream",
     "text": [
      "Simulation mass= 89.7209686632185 g\n",
      "Outfile= HR_0821_n6e-5_T1e6_hse_SFR10_Rsf2kpc/DD0090/\n"
     ]
    },
    {
     "name": "stderr",
     "output_type": "stream",
     "text": [
      "yt : [INFO     ] 2019-10-03 14:02:13,476 Parameters: current_time              = 1100.0000084892\n",
      "yt : [INFO     ] 2019-10-03 14:02:13,477 Parameters: domain_dimensions         = [128 128 128]\n",
      "yt : [INFO     ] 2019-10-03 14:02:13,477 Parameters: domain_left_edge          = [-4. -4. -4.]\n",
      "yt : [INFO     ] 2019-10-03 14:02:13,477 Parameters: domain_right_edge         = [4. 4. 4.]\n",
      "yt : [INFO     ] 2019-10-03 14:02:13,478 Parameters: cosmological_simulation   = 0.0\n"
     ]
    },
    {
     "name": "stdout",
     "output_type": "stream",
     "text": [
      "File found! /home/aditiv/CGM/Pyxsim/Data/HR_0821_n6e-5_T1e6_hse_SFR10_Rsf2kpc/DD0110/sb_0110\n"
     ]
    },
    {
     "name": "stderr",
     "output_type": "stream",
     "text": [
      "Parsing Hierarchy : 100%|██████████| 881/881 [00:00<00:00, 41905.94it/s]\n",
      "yt : [INFO     ] 2019-10-03 14:02:13,542 Gathering a field list (this may take a moment.)\n"
     ]
    },
    {
     "name": "stdout",
     "output_type": "stream",
     "text": [
      "Simulation mass= 77.54854394689778 g\n",
      "Outfile= HR_0821_n6e-5_T1e6_hse_SFR10_Rsf2kpc/DD0110/\n"
     ]
    },
    {
     "name": "stderr",
     "output_type": "stream",
     "text": [
      "yt : [INFO     ] 2019-10-03 14:02:52,606 Parameters: current_time              = 1299.9999474465\n",
      "yt : [INFO     ] 2019-10-03 14:02:52,606 Parameters: domain_dimensions         = [128 128 128]\n",
      "yt : [INFO     ] 2019-10-03 14:02:52,607 Parameters: domain_left_edge          = [-4. -4. -4.]\n",
      "yt : [INFO     ] 2019-10-03 14:02:52,607 Parameters: domain_right_edge         = [4. 4. 4.]\n",
      "yt : [INFO     ] 2019-10-03 14:02:52,608 Parameters: cosmological_simulation   = 0.0\n"
     ]
    },
    {
     "name": "stdout",
     "output_type": "stream",
     "text": [
      "File found! /home/aditiv/CGM/Pyxsim/Data/HR_0821_n6e-5_T1e6_hse_SFR10_Rsf2kpc/DD0130/sb_0130\n"
     ]
    },
    {
     "name": "stderr",
     "output_type": "stream",
     "text": [
      "Parsing Hierarchy : 100%|██████████| 881/881 [00:00<00:00, 32647.56it/s]\n",
      "yt : [INFO     ] 2019-10-03 14:02:52,673 Gathering a field list (this may take a moment.)\n"
     ]
    },
    {
     "name": "stdout",
     "output_type": "stream",
     "text": [
      "Simulation mass= 69.1231289903726 g\n",
      "Outfile= HR_0821_n6e-5_T1e6_hse_SFR10_Rsf2kpc/DD0130/\n"
     ]
    },
    {
     "name": "stderr",
     "output_type": "stream",
     "text": [
      "yt : [INFO     ] 2019-10-03 14:03:34,236 Parameters: current_time              = 1500.0000383547\n",
      "yt : [INFO     ] 2019-10-03 14:03:34,237 Parameters: domain_dimensions         = [128 128 128]\n",
      "yt : [INFO     ] 2019-10-03 14:03:34,238 Parameters: domain_left_edge          = [-4. -4. -4.]\n",
      "yt : [INFO     ] 2019-10-03 14:03:34,238 Parameters: domain_right_edge         = [4. 4. 4.]\n",
      "yt : [INFO     ] 2019-10-03 14:03:34,238 Parameters: cosmological_simulation   = 0.0\n"
     ]
    },
    {
     "name": "stdout",
     "output_type": "stream",
     "text": [
      "File found! /home/aditiv/CGM/Pyxsim/Data/HR_0821_n6e-5_T1e6_hse_SFR10_Rsf2kpc/DD0150/sb_0150\n"
     ]
    },
    {
     "name": "stderr",
     "output_type": "stream",
     "text": [
      "Parsing Hierarchy : 100%|██████████| 881/881 [00:00<00:00, 38708.81it/s]\n",
      "yt : [INFO     ] 2019-10-03 14:03:34,338 Gathering a field list (this may take a moment.)\n"
     ]
    },
    {
     "name": "stdout",
     "output_type": "stream",
     "text": [
      "Simulation mass= 61.2315393920183 g\n",
      "Outfile= HR_0821_n6e-5_T1e6_hse_SFR10_Rsf2kpc/DD0150/\n"
     ]
    },
    {
     "name": "stderr",
     "output_type": "stream",
     "text": [
      "yt : [INFO     ] 2019-10-03 14:04:14,242 Parameters: current_time              = 2199.9999640339\n",
      "yt : [INFO     ] 2019-10-03 14:04:14,242 Parameters: domain_dimensions         = [128 128 128]\n",
      "yt : [INFO     ] 2019-10-03 14:04:14,243 Parameters: domain_left_edge          = [-4. -4. -4.]\n",
      "yt : [INFO     ] 2019-10-03 14:04:14,243 Parameters: domain_right_edge         = [4. 4. 4.]\n",
      "yt : [INFO     ] 2019-10-03 14:04:14,243 Parameters: cosmological_simulation   = 0.0\n"
     ]
    },
    {
     "name": "stdout",
     "output_type": "stream",
     "text": [
      "File found! /home/aditiv/CGM/Pyxsim/Data/HR_0821_1e-6_SFR3/DD0220/sb_0220\n"
     ]
    },
    {
     "name": "stderr",
     "output_type": "stream",
     "text": [
      "Parsing Hierarchy : 100%|██████████| 481/481 [00:00<00:00, 23952.65it/s]\n",
      "yt : [INFO     ] 2019-10-03 14:04:14,308 Gathering a field list (this may take a moment.)\n"
     ]
    },
    {
     "name": "stdout",
     "output_type": "stream",
     "text": [
      "Simulation mass= 19.466795792308904 g\n",
      "Outfile= HR_0821_1e-6_SFR3/DD0220/\n"
     ]
    },
    {
     "name": "stderr",
     "output_type": "stream",
     "text": [
      "yt : [INFO     ] 2019-10-03 14:04:50,179 Parameters: current_time              = 3000.0001595029\n",
      "yt : [INFO     ] 2019-10-03 14:04:50,180 Parameters: domain_dimensions         = [128 128 128]\n",
      "yt : [INFO     ] 2019-10-03 14:04:50,180 Parameters: domain_left_edge          = [-4. -4. -4.]\n",
      "yt : [INFO     ] 2019-10-03 14:04:50,181 Parameters: domain_right_edge         = [4. 4. 4.]\n",
      "yt : [INFO     ] 2019-10-03 14:04:50,181 Parameters: cosmological_simulation   = 0.0\n"
     ]
    },
    {
     "name": "stdout",
     "output_type": "stream",
     "text": [
      "File found! /home/aditiv/CGM/Pyxsim/Data/HR_0821_1e-6_SFR3/DD0300/sb_0300\n"
     ]
    },
    {
     "name": "stderr",
     "output_type": "stream",
     "text": [
      "Parsing Hierarchy : 100%|██████████| 481/481 [00:00<00:00, 38993.03it/s]\n",
      "yt : [INFO     ] 2019-10-03 14:04:50,229 Gathering a field list (this may take a moment.)\n"
     ]
    },
    {
     "name": "stdout",
     "output_type": "stream",
     "text": [
      "Simulation mass= 37.67087766588439 g\n",
      "Outfile= HR_0821_1e-6_SFR3/DD0300/\n"
     ]
    },
    {
     "name": "stderr",
     "output_type": "stream",
     "text": [
      "yt : [INFO     ] 2019-10-03 14:05:28,935 Parameters: current_time              = 4000.0001044978\n",
      "yt : [INFO     ] 2019-10-03 14:05:28,935 Parameters: domain_dimensions         = [128 128 128]\n",
      "yt : [INFO     ] 2019-10-03 14:05:28,936 Parameters: domain_left_edge          = [-4. -4. -4.]\n",
      "yt : [INFO     ] 2019-10-03 14:05:28,936 Parameters: domain_right_edge         = [4. 4. 4.]\n",
      "yt : [INFO     ] 2019-10-03 14:05:28,937 Parameters: cosmological_simulation   = 0.0\n"
     ]
    },
    {
     "name": "stdout",
     "output_type": "stream",
     "text": [
      "File found! /home/aditiv/CGM/Pyxsim/Data/HR_0821_1e-6_SFR3/DD0400/sb_0400\n"
     ]
    },
    {
     "name": "stderr",
     "output_type": "stream",
     "text": [
      "Parsing Hierarchy : 100%|██████████| 481/481 [00:00<00:00, 62194.35it/s]\n",
      "yt : [INFO     ] 2019-10-03 14:05:28,962 Gathering a field list (this may take a moment.)\n"
     ]
    },
    {
     "name": "stdout",
     "output_type": "stream",
     "text": [
      "Simulation mass= 23.228627467379702 g\n",
      "Outfile= HR_0821_1e-6_SFR3/DD0400/\n"
     ]
    },
    {
     "name": "stderr",
     "output_type": "stream",
     "text": [
      "yt : [INFO     ] 2019-10-03 14:06:03,776 Parameters: current_time              = 4999.9999378355\n",
      "yt : [INFO     ] 2019-10-03 14:06:03,776 Parameters: domain_dimensions         = [128 128 128]\n",
      "yt : [INFO     ] 2019-10-03 14:06:03,776 Parameters: domain_left_edge          = [-4. -4. -4.]\n",
      "yt : [INFO     ] 2019-10-03 14:06:03,777 Parameters: domain_right_edge         = [4. 4. 4.]\n",
      "yt : [INFO     ] 2019-10-03 14:06:03,777 Parameters: cosmological_simulation   = 0.0\n"
     ]
    },
    {
     "name": "stdout",
     "output_type": "stream",
     "text": [
      "File found! /home/aditiv/CGM/Pyxsim/Data/HR_0821_1e-6_SFR3/DD0500/sb_0500\n"
     ]
    },
    {
     "name": "stderr",
     "output_type": "stream",
     "text": [
      "Parsing Hierarchy : 100%|██████████| 481/481 [00:00<00:00, 41948.27it/s]\n",
      "yt : [INFO     ] 2019-10-03 14:06:03,819 Gathering a field list (this may take a moment.)\n"
     ]
    },
    {
     "name": "stdout",
     "output_type": "stream",
     "text": [
      "Simulation mass= 19.696314647970866 g\n",
      "Outfile= HR_0821_1e-6_SFR3/DD0500/\n"
     ]
    }
   ],
   "source": [
    "#Scans All Folders and Reads the data that is present\n",
    "(tlow, thigh) = (1.e5, 2.e7)\n",
    "(dlow, dhigh) = (1.e-28, 1.e-25)\n",
    "extrema     = dict(temperature=(tlow, thigh), density=(dlow, dhigh))\n",
    "i =0 \n",
    "for f in folder:\n",
    "    for file in filename:\n",
    "        file_loc = base + folder[i] + file\n",
    "        \n",
    "        if(os.path.exists(file_loc)):\n",
    "            outfile  = folder[i] + file.split('/')[0] + '/'\n",
    "            \n",
    "    \n",
    "    \n",
    "            ds       = yt.load(file_loc)\n",
    "            print(\"File found!\", file_loc)\n",
    "            \n",
    "            sp        = ds.sphere('c',(50,'kpc'))\n",
    "            cr1       = sp.cut_region(\" (obj['z'].in_units('kpc')<6) & (obj['z'].in_units('kpc')>-6)\\\n",
    "                               & (obj['radius'].in_units('kpc')<20)  \" )\n",
    "\n",
    "            sim_cr    = sp - cr1\n",
    "\n",
    "            simmass   = sim_cr.quantities.total_quantity([\"cell_mass\"]).in_units('g')/Msun\n",
    "\n",
    "            profile = yt.create_profile(sim_cr,   [\"temperature\"],fields=[\"cell_mass\"],\\\n",
    "                                                  n_bins= [128,128] ,weight_field=None,\\\n",
    "                                                  accumulation=False, extrema = extrema)\n",
    "            \n",
    "            np.savetxt(outfile + \"temp_cellm.txt\",np.column_stack([profile.x,profile[\"cell_mass\"]]))\n",
    "\n",
    "            profile = yt.create_profile(sim_cr,   [\"density\"],fields=[\"cell_mass\"],\\\n",
    "                                              n_bins= [128,128], weight_field=None,\\\n",
    "                                              accumulation=False, extrema = extrema)\n",
    "            np.savetxt(outfile + \"dens_cellm.txt\",np.column_stack([profile.x,profile[\"cell_mass\"]]))\n",
    "\n",
    "\n",
    "            profile = yt.create_profile(sim_cr,   [\"density\"],fields=[\"temperature\"],\\\n",
    "                                              n_bins= [128,128], weight_field=\"cell_mass\", \\\n",
    "                                              accumulation=False, extrema = extrema)\n",
    "            np.savetxt(outfile + \"dens_temp.txt\",np.column_stack([profile.x,profile[\"temperature\"]]))\n",
    "\n",
    "            profile = yt.create_profile(sim_cr,   [\"temperature\"],fields=[\"metallicity\"],\\\n",
    "                                              n_bins= [128,128], weight_field=\"cell_mass\",\\\n",
    "                                              accumulation=False, extrema = extrema)\n",
    "            np.savetxt(outfile + \"met_temp.txt\",np.column_stack([profile.x,profile[\"metallicity\"]]))\n",
    "\n",
    "            print(\"Simulation mass=\",sim_cr.quantities.total_quantity([\"cell_mass\"]).in_units('g')/Msun/1.e8)\n",
    "            print(\"Outfile=\", outfile)\n",
    "            \n",
    "            \n",
    "            \n",
    "        \n",
    "        \n",
    "    i=i +1 "
   ]
  },
  {
   "cell_type": "code",
   "execution_count": null,
   "metadata": {},
   "outputs": [],
   "source": [
    "i =0 \n",
    "c = (0.0, 0.0, 0.0)\n",
    "profiles = []\n",
    "labels = []\n",
    "for f in folder:\n",
    "    for file in filename:\n",
    "        file_loc = base + f + file\n",
    "        \n",
    "        if(os.path.exists(file_loc)):\n",
    "            outfile  = folder[i] + file.split('/')[0] + '/'\n",
    "            \n",
    "    \n",
    "    \n",
    "            ds       = yt.load(file_loc)\n",
    "            ad = ds.sphere(c,(500, \"kpc\"))\n",
    "            profiles.append(yt.create_profile(ad, [\"radius\"],\n",
    "                                      fields=[\"metallicity\"],\n",
    "                                      weight_field=\"cell_mass\",\n",
    "                                      accumulation=True))\n",
    "            labels.append(file.split('/')[0])\n",
    "    i = i + 1\n",
    "plot = yt.ProfilePlot.from_profiles(profiles, labels=labels)\n",
    "plot.save()\n"
   ]
  },
  {
   "cell_type": "code",
   "execution_count": null,
   "metadata": {},
   "outputs": [],
   "source": [
    "plot = yt.ProfilePlot.from_profiles(profiles, labels=labels)\n",
    "plot.save()"
   ]
  },
  {
   "cell_type": "code",
   "execution_count": null,
   "metadata": {},
   "outputs": [],
   "source": [
    "plot = yt.ProfilePlot.from_profiles(profiles, labels=labels)\n",
    "plot.save()"
   ]
  },
  {
   "cell_type": "code",
   "execution_count": null,
   "metadata": {},
   "outputs": [],
   "source": []
  }
 ],
 "metadata": {
  "kernelspec": {
   "display_name": "Python 3",
   "language": "python",
   "name": "python3"
  },
  "language_info": {
   "codemirror_mode": {
    "name": "ipython",
    "version": 3
   },
   "file_extension": ".py",
   "mimetype": "text/x-python",
   "name": "python",
   "nbconvert_exporter": "python",
   "pygments_lexer": "ipython3",
   "version": "3.7.3"
  }
 },
 "nbformat": 4,
 "nbformat_minor": 2
}
