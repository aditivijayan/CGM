{
 "cells": [
  {
   "cell_type": "code",
   "execution_count": 1,
   "metadata": {},
   "outputs": [
    {
     "name": "stderr",
     "output_type": "stream",
     "text": [
      "/home/aditiv/anaconda3/lib/python3.6/site-packages/h5py/__init__.py:36: FutureWarning: Conversion of the second argument of issubdtype from `float` to `np.floating` is deprecated. In future, it will be treated as `np.float64 == np.dtype(float).type`.\n",
      "  from ._conv import register_converters as _register_converters\n",
      "/home/aditiv/anaconda3/lib/python3.6/site-packages/yt/analysis_modules/cosmological_observation/api.py:22: VisibleDeprecationWarning: Development of the LightRay module has been moved to the Trident package. This version is deprecated and will be removed from yt in a future release. See https://github.com/trident-project/trident for further information.\n",
      "  from .light_ray.api import \\\n",
      "/home/aditiv/anaconda3/lib/python3.6/site-packages/matplotlib/cbook/deprecation.py:107: MatplotlibDeprecationWarning: The mpl_toolkits.axes_grid module was deprecated in version 2.1. Use mpl_toolkits.axes_grid1 and mpl_toolkits.axisartist provies the same functionality instead.\n",
      "  warnings.warn(message, mplDeprecation, stacklevel=1)\n"
     ]
    }
   ],
   "source": [
    "%matplotlib inline\n",
    "import matplotlib\n",
    "matplotlib.rc(\"font\", size=18, family=\"serif\")\n",
    "import yt\n",
    "import numpy as np\n",
    "import matplotlib.pyplot as plt\n",
    "from yt.utilities.physical_ratios import cm_per_kpc, K_per_keV\n",
    "from yt.units import mp\n",
    "import pyxsim\n",
    "import soxs\n",
    "import aplpy\n"
   ]
  },
  {
   "cell_type": "code",
   "execution_count": 2,
   "metadata": {},
   "outputs": [],
   "source": [
    "plt.rcParams['font.size']=20\n",
    "plt.rcParams['axes.linewidth']=2\n",
    "plt.rcParams['xtick.major.size']=10\n",
    "plt.rcParams['xtick.minor.size']=5\n",
    "plt.rcParams['xtick.major.width']=2\n",
    "plt.rcParams['xtick.minor.width']=1\n",
    "plt.rcParams['xtick.direction']='in'\n",
    "plt.rcParams['ytick.major.size']=10\n",
    "plt.rcParams['ytick.minor.size']=5\n",
    "plt.rcParams['ytick.major.width']=2\n",
    "plt.rcParams['ytick.minor.width']=1\n",
    "plt.rcParams['ytick.direction']='in'"
   ]
  },
  {
   "cell_type": "code",
   "execution_count": 3,
   "metadata": {},
   "outputs": [],
   "source": [
    "Msun     = 2.e33\n",
    "ks       = 1.e3\n",
    "area     = (2000.0, \"cm**2\") # collecting area\n",
    "dist     = (1.0, \"Mpc\")\n",
    "RA,dec   = (349.60, -42.0) \n",
    "nH       = 1.93e-2  #in units of 10^22 /cm/cm\n",
    "Bins     = np.arange(0.0, 5., 1.e-3)\n",
    "bins     = np.arange(0.0, 5., 0.13)\n",
    "t        = 100 * ks    \n",
    "exp_time = (t, \"s\") # exposure time\n",
    "# tlow     = 1.e6\n"
   ]
  },
  {
   "cell_type": "code",
   "execution_count": 4,
   "metadata": {},
   "outputs": [],
   "source": [
    "base     = \"/home/aditiv/CGM/Pyxsim/Spectra\"\n",
    "\n",
    "folder = \"HR_0821_n6e-5_T1e6_hse_SFR10_Rsf2kpc/\" #hdhsfr\n",
    "# folder =\"HR_0821_1e-6_SFR3/\"                   #ldlsfr  \n",
    "\n",
    "    \n",
    "if (folder == \"HR_0821_n6e-5_T1e6_hse_SFR10_Rsf2kpc/\"):\n",
    "    filename = \"DD0130/\"\n",
    "    outfile = folder + filename\n",
    "    mass     = 69.1231289903726 * 1.e8 * Msun\n",
    "    \n",
    "elif (folder == \"HR_0821_1e-6_SFR3/\"):\n",
    "    filename = \"DD0300/\"\n",
    "    mass = 37.67087766588439 * 1.e8 * Msun\n",
    "    outfile = folder + filename"
   ]
  },
  {
   "cell_type": "code",
   "execution_count": 5,
   "metadata": {},
   "outputs": [],
   "source": [
    "\n",
    "Sim_evnty = np.loadtxt(folder + filename + \"sim_spec_HR.txt\",usecols=1)\n",
    "Sim_evntx = np.loadtxt(folder + filename + \"sim_spec_HR.txt\",usecols=0)\n",
    "\n",
    "sim_evnty = np.loadtxt(folder + filename + \"sim_spec_LR.txt\",usecols=1)\n",
    "sim_evntx = np.loadtxt(folder + filename + \"sim_spec_LR.txt\",usecols=0)\n",
    "\n",
    "Ub1_evnty = np.loadtxt(folder + filename + \"ub_spec_HR.txt\",usecols=1)\n",
    "Ub1_evntx = np.loadtxt(folder + filename + \"ub_spec_HR.txt\",usecols=0)\n",
    "\n",
    "\n",
    "ub1_evnty = np.loadtxt(folder + filename + \"ub_spec_LR.txt\",usecols=1)\n",
    "ub1_evntx = np.loadtxt(folder + filename + \"ub_spec_LR.txt\",usecols=0)\n"
   ]
  },
  {
   "cell_type": "code",
   "execution_count": 6,
   "metadata": {},
   "outputs": [
    {
     "name": "stdout",
     "output_type": "stream",
     "text": [
      "[1704133.41161909]\n"
     ]
    }
   ],
   "source": [
    "#Get TLow value from Simulations\n",
    "temp  = np.loadtxt(folder + filename  + \"temp_cellm.txt\",usecols=0)\n",
    "cellm = np.loadtxt(folder + filename  + \"temp_cellm.txt\",usecols=1)\n",
    "\n",
    "peak   = np.amax(cellm)\n",
    "fwhm1  = cellm[:]>=peak/2. \n",
    "tlow   = temp[np.where(cellm[:]==np.amax(cellm))]\n",
    "print(tlow)\n",
    "\n",
    "\n",
    "#Get Density value from Simulations\n",
    "dens  = np.loadtxt(folder + filename  + \"dens_cellm.txt\",usecols=0)\n",
    "cellm = np.loadtxt(folder + filename  + \"dens_cellm.txt\",usecols=1)\n",
    "\n",
    "peak   = np.amax(cellm)\n",
    "fwhm1  = cellm[:]>=peak/2. \n",
    "rho01  = dens[np.where(cellm[:]==np.amax(cellm))]\n",
    "\n",
    "temp  = np.loadtxt(folder + filename  + \"met_temp.txt\",usecols=0)\n",
    "met   = np.loadtxt(folder + filename  + \"met_temp.txt\",usecols=1)\n",
    "\n",
    "Zmetub01 = np.average(met[fwhm1])"
   ]
  },
  {
   "cell_type": "code",
   "execution_count": 7,
   "metadata": {},
   "outputs": [
    {
     "name": "stderr",
     "output_type": "stream",
     "text": [
      "yt : [INFO     ] 2020-03-06 15:53:40,824 Parameters: current_time              = 0.0\n",
      "yt : [INFO     ] 2020-03-06 15:53:41,830 Parameters: domain_dimensions         = [400 400 400]\n",
      "yt : [INFO     ] 2020-03-06 15:53:41,904 Parameters: domain_left_edge          = [-0.5 -0.5 -0.5]\n",
      "yt : [INFO     ] 2020-03-06 15:53:41,973 Parameters: domain_right_edge         = [0.5 0.5 0.5]\n",
      "yt : [INFO     ] 2020-03-06 15:53:41,975 Parameters: cosmological_simulation   = 0.0\n"
     ]
    }
   ],
   "source": [
    "R = 500. # radius of cluster in kpc\n",
    "R0 = 44.22 \n",
    "v0 = 1.e8/3.0**0.5  #in cm^2\n",
    "nx = 400\n",
    "\n",
    "ddims = (nx,nx,nx)\n",
    "x, y, z = np.mgrid[-R:R:nx*1j,\n",
    "                   -R:R:nx*1j,\n",
    "                   -R:R:nx*1j]\n",
    "\n",
    "r     = np.sqrt(x**2+y**2+z**2)\n",
    "r0    = np.full(ddims, 6.25)\n",
    "T     = tlow*np.ones(ddims)\n",
    "dens  = np.zeros(ddims)\n",
    "dens  = np.full(ddims, rho01)\n",
    "\n",
    "velx  = np.zeros(ddims)\n",
    "vely  = np.zeros(ddims)\n",
    "velz  = np.zeros(ddims)\n",
    "\n",
    "#Comment the following line to get static gas in Box\n",
    "velx[r<=R0] = v0 * (r0[r<=R0]/r[r<R0])**(2./3.)  * (x[r<=R0]/r[r<=R0])\n",
    "vely[r<=R0] = v0 * (r0[r<=R0]/r[r<R0])**(2./3.)  * (y[r<=R0]/r[r<=R0])\n",
    "velz[r<=R0] = v0 * (r0[r<=R0]/r[r<R0])**(2./3.)  * (z[r<=R0]/r[r<=R0])\n",
    "\n",
    "\n",
    "\n",
    "data = {}\n",
    "data[\"density\"] = (dens, \"g/cm**3\")\n",
    "data[\"temperature\"] = (T, \"K\")\n",
    "data[\"velocity_x\"]  = (velx, \"cm/s\")\n",
    "data[\"velocity_y\"]  = (velx, \"cm/s\")\n",
    "data[\"velocity_z\"]  = (velz, \"cm/s\")\n",
    "\n",
    "bbox = np.array([[-0.5, 0.5], [-0.5, 0.5], [-0.5, 0.5]]) # The bounding box of the domain in code units \n",
    "\n",
    "boxlow  = yt.load_uniform_grid(data, ddims, 2*R*cm_per_kpc, bbox=bbox)\n"
   ]
  },
  {
   "cell_type": "code",
   "execution_count": 9,
   "metadata": {},
   "outputs": [
    {
     "name": "stderr",
     "output_type": "stream",
     "text": [
      "yt : [INFO     ] 2020-03-06 15:55:14,523 Parameters: current_time              = 0.0\n",
      "yt : [INFO     ] 2020-03-06 15:55:15,205 Parameters: domain_dimensions         = [400 400 400]\n",
      "yt : [INFO     ] 2020-03-06 15:55:15,249 Parameters: domain_left_edge          = [-0.5 -0.5 -0.5]\n",
      "yt : [INFO     ] 2020-03-06 15:55:15,251 Parameters: domain_right_edge         = [0.5 0.5 0.5]\n",
      "yt : [INFO     ] 2020-03-06 15:55:15,254 Parameters: cosmological_simulation   = 0.0\n"
     ]
    }
   ],
   "source": [
    "R = 500. # radius of cluster in kpc\n",
    "R0 = 44.22 \n",
    "v0 = 1.e8/3.0**0.5  #in cm^2\n",
    "nx = 400\n",
    "thigh    = 3.e6\n",
    "ddims = (nx,nx,nx)\n",
    "x, y, z = np.mgrid[-R:R:nx*1j,\n",
    "                   -R:R:nx*1j,\n",
    "                   -R:R:nx*1j]\n",
    "\n",
    "r     = np.sqrt(x**2+y**2+z**2)\n",
    "r0    = np.full(ddims, 6.25)\n",
    "\n",
    "T     = thigh*np.ones(ddims)\n",
    "dens  = np.zeros(ddims)\n",
    "dens  = np.full(ddims, rho01)\n",
    "\n",
    "velx  = np.zeros(ddims)\n",
    "vely  = np.zeros(ddims)\n",
    "velz  = np.zeros(ddims)\n",
    "\n",
    "#Comment the following line to get static gas in Box\n",
    "velx[r<=R0] = v0 * (r0[r<=R0]/r[r<R0])**(2./3.)  * (x[r<=R0]/r[r<=R0])\n",
    "vely[r<=R0] = v0 * (r0[r<=R0]/r[r<R0])**(2./3.)  * (y[r<=R0]/r[r<=R0])\n",
    "velz[r<=R0] = v0 * (r0[r<=R0]/r[r<R0])**(2./3.)  * (z[r<=R0]/r[r<=R0])\n",
    "\n",
    "\n",
    "\n",
    "data = {}\n",
    "data[\"density\"] = (dens, \"g/cm**3\")\n",
    "data[\"temperature\"] = (T, \"K\")\n",
    "data[\"velocity_x\"]  = (velx, \"cm/s\")\n",
    "data[\"velocity_y\"]  = (velx, \"cm/s\")\n",
    "data[\"velocity_z\"]  = (velz, \"cm/s\")\n",
    "\n",
    "bbox = np.array([[-0.5, 0.5], [-0.5, 0.5], [-0.5, 0.5]]) # The bounding box of the domain in code units \n",
    "\n",
    "boxhigh  = yt.load_uniform_grid(data, ddims, 2*R*cm_per_kpc, bbox=bbox)\n"
   ]
  },
  {
   "cell_type": "code",
   "execution_count": 10,
   "metadata": {},
   "outputs": [],
   "source": [
    "from functions import get_reff\n",
    "reff1 = get_reff(boxlow, mass)\n"
   ]
  },
  {
   "cell_type": "code",
   "execution_count": 10,
   "metadata": {},
   "outputs": [
    {
     "name": "stderr",
     "output_type": "stream",
     "text": [
      "soxs : [INFO     ] 2019-09-21 15:51:11,573 Using APEC version 3.0.9.\n",
      "soxs : [INFO     ] 2019-09-21 15:51:11,630 Using apec_v3.0.9_line.fits for generating spectral lines.\n",
      "soxs : [INFO     ] 2019-09-21 15:51:11,635 Using apec_v3.0.9_coco.fits for generating the continuum.\n",
      "pyxsim : [INFO     ] 2019-09-21 15:51:11,922 Observing local source at distance 999.9999999999999 kpc.\n",
      "pyxsim : [INFO     ] 2019-09-21 15:51:11,925 Using emission measure field '(gas, emission_measure)'.\n",
      "pyxsim : [INFO     ] 2019-09-21 15:51:11,927 Using temperature field '(gas, temperature)'.\n",
      "Processing cells/particles : 100%|█████████▉| 41074/41088 [00:33<00:00, 3054.53it/s]pyxsim : [INFO     ] 2019-09-21 15:52:37,164 Finished generating photons.\n",
      "pyxsim : [INFO     ] 2019-09-21 15:52:37,918 Number of photons generated: 193341576\n",
      "pyxsim : [INFO     ] 2019-09-21 15:52:37,937 Number of cells with photons: 41088\n",
      "pyxsim : [INFO     ] 2019-09-21 15:52:41,382 Doppler-shifting photon energies.\n",
      "Doppler shifting photons: 100%|██████████| 41088/41088 [00:00<00:00, 118114.91it/s]\n",
      "pyxsim : [INFO     ] 2019-09-21 15:52:42,249 Foreground galactic absorption: using the wabs model and nH = 0.0193.\n",
      "Absorbing photons: 100%|██████████| 193341576/193341576 [00:23<00:00, 8402316.35it/s]\n",
      "pyxsim : [INFO     ] 2019-09-21 15:53:06,131 46655552 events have been detected.\n",
      "pyxsim : [INFO     ] 2019-09-21 15:53:06,141 Assigning positions to events.\n",
      "Generating event positions: 100%|██████████| 41088/41088 [00:10<00:00, 3992.86it/s] \n",
      "pyxsim : [INFO     ] 2019-09-21 15:53:17,382 Converting pixel to sky coordinates.\n",
      "Converting pixel to celestial coordinates: 100%|██████████| 46655552/46655552 [00:36<00:00, 1284756.68it/s]\n",
      "pyxsim : [INFO     ] 2019-09-21 15:53:54,525 Doppler-shifting photon energies.\n",
      "Doppler shifting photons: 100%|██████████| 41088/41088 [00:00<00:00, 141749.20it/s]\n",
      "pyxsim : [INFO     ] 2019-09-21 15:54:09,399 193341576 events have been detected.\n",
      "pyxsim : [INFO     ] 2019-09-21 15:54:10,205 Assigning positions to events.\n",
      "Generating event positions: 100%|██████████| 41088/41088 [01:13<00:00, 559.31it/s]  \n",
      "pyxsim : [INFO     ] 2019-09-21 15:55:29,539 Converting pixel to sky coordinates.\n",
      "Converting pixel to celestial coordinates: 100%|██████████| 193341576/193341576 [02:35<00:00, 1244055.15it/s]\n"
     ]
    }
   ],
   "source": [
    "ubcr_low     = boxlow.sphere(\"c\", (reff1,\"kpc\"))\n",
    "source_model = pyxsim.ThermalSourceModel(\"apec\", 0.1, 5.0, 5000, Zmet=Zmetub01)\n",
    "Photons      = pyxsim.PhotonList.from_data_source(ubcr_low,0.0, area, exp_time, source_model,dist=dist)\n",
    "Events       = Photons.project_photons(\"z\", (RA, dec), absorb_model=\"wabs\", nH=nH)\n",
    "Events1      = Photons.project_photons(\"z\", (RA, dec))\n",
    "energy = Events[\"eobs\"]\n",
    "Ega = np.asarray(energy)\n",
    "UbL_evnty , UbL_evntx  = np.histogram(Ega, bins=Bins) \n",
    "ubL_evnty , ubL_evntx  = np.histogram(Ega, bins=bins) \n",
    "\n",
    "\n",
    "np.savetxt(folder + filename + \"lowub_spec_HR.txt\",np.column_stack([UbL_evntx[:-1],UbL_evnty/t]))\n",
    "np.savetxt(folder + filename + \"lowub_spec_LR.txt\",np.column_stack([ubL_evntx[:-1], ubL_evnty/t]))\n"
   ]
  },
  {
   "cell_type": "code",
   "execution_count": 30,
   "metadata": {},
   "outputs": [
    {
     "name": "stderr",
     "output_type": "stream",
     "text": [
      "soxs : [INFO     ] 2019-09-21 16:44:45,022 Using APEC version 3.0.9.\n",
      "soxs : [INFO     ] 2019-09-21 16:44:45,828 Using apec_v3.0.9_line.fits for generating spectral lines.\n",
      "soxs : [INFO     ] 2019-09-21 16:44:45,847 Using apec_v3.0.9_coco.fits for generating the continuum.\n",
      "pyxsim : [INFO     ] 2019-09-21 16:44:52,052 Observing local source at distance 999.9999999999999 kpc.\n",
      "pyxsim : [INFO     ] 2019-09-21 16:44:52,086 Using emission measure field '(gas, emission_measure)'.\n",
      "pyxsim : [INFO     ] 2019-09-21 16:44:52,088 Using temperature field '(gas, temperature)'.\n",
      "Processing cells/particles :  99%|█████████▉| 40848/41088 [00:22<00:00, 5710.22it/s]pyxsim : [INFO     ] 2019-09-21 16:45:46,967 Finished generating photons.\n",
      "pyxsim : [INFO     ] 2019-09-21 16:45:49,136 Number of photons generated: 108625620\n",
      "pyxsim : [INFO     ] 2019-09-21 16:45:49,140 Number of cells with photons: 41088\n",
      "pyxsim : [INFO     ] 2019-09-21 16:45:50,081 Doppler-shifting photon energies.\n",
      "Doppler shifting photons: 100%|██████████| 41088/41088 [00:00<00:00, 280954.11it/s]\n",
      "pyxsim : [INFO     ] 2019-09-21 16:45:50,471 Foreground galactic absorption: using the wabs model and nH = 0.0193.\n",
      "Absorbing photons: 100%|██████████| 108625620/108625620 [00:13<00:00, 8016519.49it/s]\n",
      "pyxsim : [INFO     ] 2019-09-21 16:46:11,477 50280632 events have been detected.\n",
      "pyxsim : [INFO     ] 2019-09-21 16:46:12,442 Assigning positions to events.\n",
      "Generating event positions: 100%|██████████| 41088/41088 [00:20<00:00, 2039.67it/s] \n",
      "pyxsim : [INFO     ] 2019-09-21 16:46:33,517 Converting pixel to sky coordinates.\n",
      "Converting pixel to celestial coordinates: 100%|██████████| 50280632/50280632 [00:36<00:00, 1381422.90it/s]\n",
      "pyxsim : [INFO     ] 2019-09-21 16:47:10,463 Doppler-shifting photon energies.\n",
      "Doppler shifting photons: 100%|██████████| 41088/41088 [00:00<00:00, 242057.93it/s]\n",
      "pyxsim : [INFO     ] 2019-09-21 16:47:17,575 108625620 events have been detected.\n",
      "pyxsim : [INFO     ] 2019-09-21 16:47:19,232 Assigning positions to events.\n",
      "Generating event positions: 100%|██████████| 41088/41088 [00:36<00:00, 1127.28it/s] \n",
      "pyxsim : [INFO     ] 2019-09-21 16:47:57,774 Converting pixel to sky coordinates.\n",
      "Converting pixel to celestial coordinates: 100%|██████████| 108625620/108625620 [01:25<00:00, 1269093.98it/s]\n"
     ]
    }
   ],
   "source": [
    "ubcr_high    = boxhigh.sphere(\"c\", (reff1,\"kpc\"))\n",
    "source_model = pyxsim.ThermalSourceModel(\"apec\", 0.1, 5.0, 5000, Zmet=Zmetub01)\n",
    "Photons      = pyxsim.PhotonList.from_data_source(ubcr_high,0.0, area, exp_time, source_model,dist=dist)\n",
    "Events       = Photons.project_photons(\"z\", (RA, dec), absorb_model=\"wabs\", nH=nH)\n",
    "Events1      = Photons.project_photons(\"z\", (RA, dec))\n",
    "energy = Events[\"eobs\"]\n",
    "Ega = np.asarray(energy)\n",
    "UbH_evnty , UbH_evntx  = np.histogram(Ega, bins=Bins) \n",
    "ubH_evnty , ubH_evntx  = np.histogram(Ega, bins=bins) \n",
    "\n",
    "\n",
    "# np.savetxt(folder + filename + \"high_ub_spec_HR.txt\",np.column_stack([UbH_evntx[:-1],UbH_evnty/t]))\n",
    "# np.savetxt(folder + filename + \"high_ub_spec_LR.txt\",np.column_stack([ubH_evntx[:-1], ubH_evnty/t]))\n"
   ]
  },
  {
   "cell_type": "code",
   "execution_count": 25,
   "metadata": {},
   "outputs": [],
   "source": [
    "np.savetxt(folder + filename + \"high_ub_spec_HR.txt\",np.column_stack([UbH_evntx[:-1],UbH_evnty/t/3.]))\n",
    "np.savetxt(folder + filename + \"high_ub_spec_LR.txt\",np.column_stack([ubH_evntx[:-1], ubH_evnty/t/3.0]))\n"
   ]
  },
  {
   "cell_type": "code",
   "execution_count": 27,
   "metadata": {},
   "outputs": [],
   "source": [
    "np.savetxt(folder + filename + \"lowub_spec_HR.txt\",np.column_stack([UbL_evntx[:-1],0.8*UbL_evnty/t]))\n",
    "np.savetxt(folder + filename + \"lowub_spec_LR.txt\",np.column_stack([ubL_evntx[:-1], 0.8*ubL_evnty/t]))\n"
   ]
  },
  {
   "cell_type": "code",
   "execution_count": null,
   "metadata": {
    "scrolled": false
   },
   "outputs": [],
   "source": [
    "f, ax = plt.subplots(3, 1, gridspec_kw = {'wspace':0.4, 'hspace':0.1,},\\\n",
    "                        figsize=(12, 18))\n",
    "for i in range(3):\n",
    "    ax[i].tick_params(direction='in', which='both')\n",
    "    ax[i].tick_params(labelsize=18)\n",
    "    ax[i].tick_params(size=10.0)\n",
    "    ax[i].tick_params(size=5.0,which='minor')\n",
    "    ax[i].tick_params(width=1.2)\n",
    "    ax[i].tick_params(width=0.5,which='minor')\n",
    "    ax[i].set_yscale('log')\n",
    "    ax[i].set_ylabel(r'counts s$^{-1}$ keV$^{-1}$') \n",
    "    ax[i].plot(Sim_evntx, Sim_evnty/Sim_evntx, '-',label='Simulation')\n",
    "    ax[i].plot(UbL_evntx[:-1], UbL_evnty/UbL_evntx[:-1]/t,'-.', label=str(tlow/1.e6)+'MK')\n",
    "    ax[i].plot(UbH_evntx[:-1], UbH_evnty/UbH_evntx[:-1]/t,'-.', label=str(thigh/1.e6)+'MK')\n",
    "    \n",
    "ax[0].set_xlim(.1,2.0)\n",
    "ax[0].set_title(r\"$Z=$\" + str(Zmetub01)+\" Z$_{\\odot}$\")\n",
    "# ax[0].text(0.75, 5.e-6,r\"$T=$\" + str(t0/1.e6)+\"$X10^6$ K\")\n",
    "ax[1].set_xlim(.6,0.7)\n",
    "ax[2].set_xlim(.7,0.8)\n",
    "ax[2].set_xlabel('Energy(keV)')\n",
    "ax[0].legend()\n",
    "plt.savefig(outfile + \"sim_ub_sum_HR.pdf\")"
   ]
  },
  {
   "cell_type": "code",
   "execution_count": 41,
   "metadata": {},
   "outputs": [
    {
     "name": "stderr",
     "output_type": "stream",
     "text": [
      "/home/aditiv/anaconda3/lib/python3.6/site-packages/ipykernel_launcher.py:13: RuntimeWarning: divide by zero encountered in true_divide\n",
      "  del sys.path[0]\n",
      "/home/aditiv/anaconda3/lib/python3.6/site-packages/ipykernel_launcher.py:14: RuntimeWarning: divide by zero encountered in true_divide\n",
      "  \n",
      "/home/aditiv/anaconda3/lib/python3.6/site-packages/ipykernel_launcher.py:15: RuntimeWarning: divide by zero encountered in true_divide\n",
      "  from ipykernel import kernelapp as app\n"
     ]
    },
    {
     "data": {
      "text/plain": [
       "<matplotlib.legend.Legend at 0x7f4d07f5d390>"
      ]
     },
     "execution_count": 41,
     "metadata": {},
     "output_type": "execute_result"
    },
    {
     "data": {
      "image/png": "[encoded data removed]",
      "text/plain": [
       "<Figure size 576x576 with 1 Axes>"
      ]
     },
     "metadata": {},
     "output_type": "display_data"
    }
   ],
   "source": [
    "#Generating Low Res Spectra For UB and Sim\n",
    "\n",
    "f, ax = plt.subplots(1, 1, gridspec_kw = {'wspace':0.4, 'hspace':0.1,},\\\n",
    "                        figsize=(8, 8))\n",
    "\n",
    "ax.tick_params(direction='in', which='both')\n",
    "ax.tick_params(labelsize=18)\n",
    "ax.tick_params(size=10.0)\n",
    "ax.tick_params(size=5.0,which='minor')\n",
    "ax.tick_params(width=1.2)\n",
    "ax.tick_params(width=0.5,which='minor')\n",
    "ax.set_yscale('log')\n",
    "ax.set_ylabel(r'counts s$^{-1}$ keV$^{-1}$') \n",
    "ax.plot(sim_evntx, sim_evnty/sim_evntx, '-o',label='Simulation')\n",
    "ax.plot(ubL_evntx[:-1], 0.8*ubL_evnty/ubL_evntx[:-1]/t,'-*', label=str(tlow/1.e6)+'MK')\n",
    "ax.plot(ubH_evntx[:-1], ubH_evnty/ubH_evntx[:-1]/t/1.2,'-*', label=str(thigh/1.e6)+'MK')\n",
    "# ax.plot(ubH_evntx[:-1], (ubH_evnty/3.0+ 0.75*ubL_evnty)/ubH_evntx[:-1]/t,'-.', \\\n",
    "#         label=str(thigh/1.e6)+'MK' + '+' + str(tlow/1.e6)+'MK')\n",
    "\n",
    "ax.set_xlim(.1,2.0)\n",
    "ax.set_ylim(1.e-4,1.e4)\n",
    "ax.set_xlabel('Energy(keV)')\n",
    "ax.legend()\n",
    "# plt.savefig(outfile+\"sim_ub_sum_LR.pdf\")"
   ]
  },
  {
   "cell_type": "code",
   "execution_count": null,
   "metadata": {},
   "outputs": [],
   "source": []
  }
 ],
 "metadata": {
  "kernelspec": {
   "display_name": "Python 3",
   "language": "python",
   "name": "python3"
  },
  "language_info": {
   "codemirror_mode": {
    "name": "ipython",
    "version": 3
   },
   "file_extension": ".py",
   "mimetype": "text/x-python",
   "name": "python",
   "nbconvert_exporter": "python",
   "pygments_lexer": "ipython3",
   "version": "3.7.3"
  }
 },
 "nbformat": 4,
 "nbformat_minor": 2
}
